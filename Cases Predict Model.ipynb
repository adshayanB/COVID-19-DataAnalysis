{
 "cells": [
  {
   "cell_type": "code",
   "execution_count": 2,
   "metadata": {},
   "outputs": [],
   "source": [
    "#Importing Packages\n",
    "import plotly.graph_objects as go\n",
    "import numpy as np\n",
    "import pandas as pd\n",
    "from fbprophet import Prophet\n",
    "from ipywidgets import interact, interactive, fixed, interact_manual\n",
    "from fbprophet.plot import plot_plotly\n",
    "import plotly.offline as py"
   ]
  },
  {
   "cell_type": "markdown",
   "metadata": {},
   "source": [
    "<h1> Extracting John Hopkins Covid Data (updated daily)"
   ]
  },
  {
   "cell_type": "code",
   "execution_count": 3,
   "metadata": {},
   "outputs": [],
   "source": [
    "deaths = pd.read_csv('https://raw.githubusercontent.com/CSSEGISandData/COVID-19/master/csse_covid_19_data/csse_covid_19_time_series/time_series_covid19_deaths_global.csv')\n",
    "confirmed = pd.read_csv('https://raw.githubusercontent.com/CSSEGISandData/COVID-19/master/csse_covid_19_data/csse_covid_19_time_series/time_series_covid19_confirmed_global.csv')\n",
    "recovered = pd.read_csv('https://raw.githubusercontent.com/CSSEGISandData/COVID-19/master/csse_covid_19_data/csse_covid_19_time_series/time_series_covid19_recovered_global.csv')\n",
    "\n",
    "country = pd.read_csv('https://raw.githubusercontent.com/CSSEGISandData/COVID-19/web-data/data/cases_country.csv')"
   ]
  },
  {
   "cell_type": "markdown",
   "metadata": {},
   "source": [
    "<h1> Data Cleaning"
   ]
  },
  {
   "cell_type": "code",
   "execution_count": 4,
   "metadata": {},
   "outputs": [
    {
     "data": {
      "text/html": [
       "<div>\n",
       "<style scoped>\n",
       "    .dataframe tbody tr th:only-of-type {\n",
       "        vertical-align: middle;\n",
       "    }\n",
       "\n",
       "    .dataframe tbody tr th {\n",
       "        vertical-align: top;\n",
       "    }\n",
       "\n",
       "    .dataframe thead th {\n",
       "        text-align: right;\n",
       "    }\n",
       "</style>\n",
       "<table border=\"1\" class=\"dataframe\">\n",
       "  <thead>\n",
       "    <tr style=\"text-align: right;\">\n",
       "      <th></th>\n",
       "      <th>ds</th>\n",
       "      <th>y</th>\n",
       "    </tr>\n",
       "  </thead>\n",
       "  <tbody>\n",
       "    <tr>\n",
       "      <th>0</th>\n",
       "      <td>2020-01-23</td>\n",
       "      <td>0</td>\n",
       "    </tr>\n",
       "    <tr>\n",
       "      <th>1</th>\n",
       "      <td>2020-01-24</td>\n",
       "      <td>0</td>\n",
       "    </tr>\n",
       "    <tr>\n",
       "      <th>2</th>\n",
       "      <td>2020-01-25</td>\n",
       "      <td>0</td>\n",
       "    </tr>\n",
       "    <tr>\n",
       "      <th>3</th>\n",
       "      <td>2020-01-26</td>\n",
       "      <td>0</td>\n",
       "    </tr>\n",
       "    <tr>\n",
       "      <th>4</th>\n",
       "      <td>2020-01-27</td>\n",
       "      <td>1</td>\n",
       "    </tr>\n",
       "    <tr>\n",
       "      <th>...</th>\n",
       "      <td>...</td>\n",
       "      <td>...</td>\n",
       "    </tr>\n",
       "    <tr>\n",
       "      <th>297</th>\n",
       "      <td>2020-11-15</td>\n",
       "      <td>295131</td>\n",
       "    </tr>\n",
       "    <tr>\n",
       "      <th>298</th>\n",
       "      <td>2020-11-16</td>\n",
       "      <td>299422</td>\n",
       "    </tr>\n",
       "    <tr>\n",
       "      <th>299</th>\n",
       "      <td>2020-11-17</td>\n",
       "      <td>305449</td>\n",
       "    </tr>\n",
       "    <tr>\n",
       "      <th>300</th>\n",
       "      <td>2020-11-18</td>\n",
       "      <td>309877</td>\n",
       "    </tr>\n",
       "    <tr>\n",
       "      <th>301</th>\n",
       "      <td>2020-11-19</td>\n",
       "      <td>314385</td>\n",
       "    </tr>\n",
       "  </tbody>\n",
       "</table>\n",
       "<p>302 rows × 2 columns</p>\n",
       "</div>"
      ],
      "text/plain": [
       "            ds       y\n",
       "0   2020-01-23       0\n",
       "1   2020-01-24       0\n",
       "2   2020-01-25       0\n",
       "3   2020-01-26       0\n",
       "4   2020-01-27       1\n",
       "..         ...     ...\n",
       "297 2020-11-15  295131\n",
       "298 2020-11-16  299422\n",
       "299 2020-11-17  305449\n",
       "300 2020-11-18  309877\n",
       "301 2020-11-19  314385\n",
       "\n",
       "[302 rows x 2 columns]"
      ]
     },
     "execution_count": 4,
     "metadata": {},
     "output_type": "execute_result"
    }
   ],
   "source": [
    "dates=np.array(confirmed.iloc[:,5:].columns)\n",
    "dates=pd.to_datetime(dates)\n",
    "df = pd.DataFrame(dates, columns = ['ds'])\n",
    "confirmed[confirmed['Country/Region']=='Canada']\n",
    "temp=confirmed[confirmed['Country/Region'] == 'Canada'].iloc[:,4:]\n",
    "temp=np.sum(np.array(temp),axis=0)\n",
    "df['y']=pd.Series(temp)\n",
    "df"
   ]
  },
  {
   "cell_type": "markdown",
   "metadata": {},
   "source": [
    "<h1> Implementing the prophet learning model\n",
    "\n"
   ]
  },
  {
   "cell_type": "code",
   "execution_count": 16,
   "metadata": {},
   "outputs": [
    {
     "data": {
      "application/vnd.jupyter.widget-view+json": {
       "model_id": "b7ba953552d3479eb50d4f32ba384214",
       "version_major": 2,
       "version_minor": 0
      },
      "text/plain": [
       "interactive(children=(Text(value='World', description='country'), Output()), _dom_classes=('widget-interact',)…"
      ]
     },
     "metadata": {},
     "output_type": "display_data"
    },
    {
     "data": {
      "text/plain": [
       "<function __main__.get_Country_Data(country)>"
      ]
     },
     "execution_count": 16,
     "metadata": {},
     "output_type": "execute_result"
    }
   ],
   "source": [
    "def get_Country_Data(country):\n",
    "    #Get All Dates \n",
    "    dates=np.array(confirmed.iloc[:,4:].columns)\n",
    "    \n",
    "    #Convert dates in the format the model accepts\n",
    "    dates=pd.to_datetime(dates)\n",
    "    \n",
    "    #input date in a new dataframe\n",
    "    df = pd.DataFrame(dates, columns = ['ds'])\n",
    "    \n",
    "    if country=='World':\n",
    "        temp = np.sum(np.array(confirmed.iloc[:,4:]),axis=0)\n",
    "    else:\n",
    "        temp=confirmed[confirmed['Country/Region'] == country].iloc[:,4:]\n",
    "        temp=np.sum(np.array(temp),axis=0)\n",
    "    \n",
    "    df['y']=pd.Series(temp)\n",
    "        \n",
    "    model = Prophet()\n",
    "    model.fit(df)\n",
    "    future = model.make_future_dataframe(periods=14)\n",
    "    future.tail()\n",
    "    forecast = model.predict(future)\n",
    "    #stores Predicted Data for reference\n",
    "    pred=forecast[['ds', 'yhat', 'yhat_lower', 'yhat_upper']]\n",
    "    \n",
    "    fig = plot_plotly(model, forecast)  # This returns a plotly Figure\n",
    "\n",
    "    fig.update_layout(\n",
    "        template=\"ggplot2\",\n",
    "        title=\"Predicted amount of Cases in \" + country,\n",
    "        xaxis_title='Date',\n",
    "        yaxis_title='Number of Confirmed Cases',\n",
    "        width = 975,\n",
    "    \n",
    "    )\n",
    "    fig.show()\n",
    "\n",
    "interact(get_Country_Data, country='World')\n"
   ]
  },
  {
   "cell_type": "code",
   "execution_count": 20,
   "metadata": {},
   "outputs": [
    {
     "data": {
      "application/vnd.jupyter.widget-view+json": {
       "model_id": "ea96e853d5974237b8f72b44f2b6863d",
       "version_major": 2,
       "version_minor": 0
      },
      "text/plain": [
       "interactive(children=(Text(value='World', description='country'), Output()), _dom_classes=('widget-interact',)…"
      ]
     },
     "metadata": {},
     "output_type": "display_data"
    },
    {
     "data": {
      "text/plain": [
       "<function __main__.get_Country_Data1(country)>"
      ]
     },
     "execution_count": 20,
     "metadata": {},
     "output_type": "execute_result"
    }
   ],
   "source": [
    "def get_Country_Data1(country):\n",
    "    #Get All Dates \n",
    "    dates=np.array(deaths.iloc[:,4:].columns)\n",
    "    \n",
    "    #Convert dates in the format the model accepts\n",
    "    dates=pd.to_datetime(dates)\n",
    "    \n",
    "    #input date in a new dataframe\n",
    "    df = pd.DataFrame(dates, columns = ['ds'])\n",
    "    \n",
    "    if country=='World':\n",
    "        temp = np.sum(np.array(deaths.iloc[:,4:]),axis=0)\n",
    "    else:\n",
    "        temp=deaths[deaths['Country/Region'] == country].iloc[:,4:]\n",
    "        temp=np.sum(np.array(temp),axis=0)\n",
    "    \n",
    "    df['y']=pd.Series(temp)\n",
    "        \n",
    "    model = Prophet()\n",
    "    model.fit(df)\n",
    "    future = model.make_future_dataframe(periods=14)\n",
    "    future.tail()\n",
    "    forecast = model.predict(future)\n",
    "    #stores Predicted Data for reference\n",
    "    pred=forecast[['ds', 'yhat', 'yhat_lower', 'yhat_upper']]\n",
    "    \n",
    "    fig = plot_plotly(model, forecast)  # This returns a plotly Figure\n",
    "\n",
    "    fig.update_layout(\n",
    "        template=\"ggplot2\",\n",
    "        title=\"Predicted amount of Deaths in \" + country,\n",
    "        xaxis_title='Date',\n",
    "        yaxis_title='Number of Deaths',\n",
    "        width = 975,\n",
    "    \n",
    "    )\n",
    "    fig.show()\n",
    "\n",
    "interact(get_Country_Data1, country='World')"
   ]
  },
  {
   "cell_type": "code",
   "execution_count": null,
   "metadata": {},
   "outputs": [],
   "source": []
  }
 ],
 "metadata": {
  "kernelspec": {
   "display_name": "Python 3",
   "language": "python",
   "name": "python3"
  },
  "language_info": {
   "codemirror_mode": {
    "name": "ipython",
    "version": 3
   },
   "file_extension": ".py",
   "mimetype": "text/x-python",
   "name": "python",
   "nbconvert_exporter": "python",
   "pygments_lexer": "ipython3",
   "version": "3.7.6"
  }
 },
 "nbformat": 4,
 "nbformat_minor": 4
}
