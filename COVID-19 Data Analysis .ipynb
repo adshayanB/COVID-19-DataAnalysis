{
 "cells": [
  {
   "cell_type": "code",
   "execution_count": 330,
   "metadata": {},
   "outputs": [],
   "source": [
    "import pandas as pd\n",
    "import matplotlib.pyplot as plt\n",
    "import numpy as np\n",
    "from matplotlib import style\n",
    "style.use('ggplot')\n",
    "%matplotlib inline\n",
    "\n",
    "\n",
    "df= pd.read_csv('canadian_data.csv')\n"
   ]
  },
  {
   "cell_type": "code",
   "execution_count": 331,
   "metadata": {},
   "outputs": [
    {
     "data": {
      "text/html": [
       "<div>\n",
       "<style scoped>\n",
       "    .dataframe tbody tr th:only-of-type {\n",
       "        vertical-align: middle;\n",
       "    }\n",
       "\n",
       "    .dataframe tbody tr th {\n",
       "        vertical-align: top;\n",
       "    }\n",
       "\n",
       "    .dataframe thead th {\n",
       "        text-align: right;\n",
       "    }\n",
       "</style>\n",
       "<table border=\"1\" class=\"dataframe\">\n",
       "  <thead>\n",
       "    <tr style=\"text-align: right;\">\n",
       "      <th></th>\n",
       "      <th>pruid</th>\n",
       "      <th>prname</th>\n",
       "      <th>prnameFR</th>\n",
       "      <th>date</th>\n",
       "      <th>numconf</th>\n",
       "      <th>numprob</th>\n",
       "      <th>numdeaths</th>\n",
       "      <th>numtotal</th>\n",
       "      <th>numtested</th>\n",
       "      <th>numrecover</th>\n",
       "      <th>percentrecover</th>\n",
       "      <th>ratetested</th>\n",
       "      <th>numtoday</th>\n",
       "      <th>percentoday</th>\n",
       "    </tr>\n",
       "  </thead>\n",
       "  <tbody>\n",
       "    <tr>\n",
       "      <th>0</th>\n",
       "      <td>35</td>\n",
       "      <td>Ontario</td>\n",
       "      <td>Ontario</td>\n",
       "      <td>31-01-2020</td>\n",
       "      <td>3</td>\n",
       "      <td>0</td>\n",
       "      <td>0</td>\n",
       "      <td>3</td>\n",
       "      <td>NaN</td>\n",
       "      <td>NaN</td>\n",
       "      <td>NaN</td>\n",
       "      <td>NaN</td>\n",
       "      <td>3.0</td>\n",
       "      <td>3.0</td>\n",
       "    </tr>\n",
       "    <tr>\n",
       "      <th>1</th>\n",
       "      <td>59</td>\n",
       "      <td>British Columbia</td>\n",
       "      <td>Colombie-Britannique</td>\n",
       "      <td>31-01-2020</td>\n",
       "      <td>1</td>\n",
       "      <td>0</td>\n",
       "      <td>0</td>\n",
       "      <td>1</td>\n",
       "      <td>NaN</td>\n",
       "      <td>NaN</td>\n",
       "      <td>NaN</td>\n",
       "      <td>NaN</td>\n",
       "      <td>1.0</td>\n",
       "      <td>1.0</td>\n",
       "    </tr>\n",
       "    <tr>\n",
       "      <th>2</th>\n",
       "      <td>1</td>\n",
       "      <td>Canada</td>\n",
       "      <td>Canada</td>\n",
       "      <td>31-01-2020</td>\n",
       "      <td>4</td>\n",
       "      <td>0</td>\n",
       "      <td>0</td>\n",
       "      <td>4</td>\n",
       "      <td>NaN</td>\n",
       "      <td>NaN</td>\n",
       "      <td>NaN</td>\n",
       "      <td>NaN</td>\n",
       "      <td>4.0</td>\n",
       "      <td>4.0</td>\n",
       "    </tr>\n",
       "    <tr>\n",
       "      <th>3</th>\n",
       "      <td>35</td>\n",
       "      <td>Ontario</td>\n",
       "      <td>Ontario</td>\n",
       "      <td>08-02-2020</td>\n",
       "      <td>3</td>\n",
       "      <td>0</td>\n",
       "      <td>0</td>\n",
       "      <td>3</td>\n",
       "      <td>NaN</td>\n",
       "      <td>NaN</td>\n",
       "      <td>NaN</td>\n",
       "      <td>NaN</td>\n",
       "      <td>0.0</td>\n",
       "      <td>0.0</td>\n",
       "    </tr>\n",
       "    <tr>\n",
       "      <th>4</th>\n",
       "      <td>59</td>\n",
       "      <td>British Columbia</td>\n",
       "      <td>Colombie-Britannique</td>\n",
       "      <td>08-02-2020</td>\n",
       "      <td>4</td>\n",
       "      <td>0</td>\n",
       "      <td>0</td>\n",
       "      <td>4</td>\n",
       "      <td>NaN</td>\n",
       "      <td>NaN</td>\n",
       "      <td>NaN</td>\n",
       "      <td>NaN</td>\n",
       "      <td>3.0</td>\n",
       "      <td>3.0</td>\n",
       "    </tr>\n",
       "    <tr>\n",
       "      <th>...</th>\n",
       "      <td>...</td>\n",
       "      <td>...</td>\n",
       "      <td>...</td>\n",
       "      <td>...</td>\n",
       "      <td>...</td>\n",
       "      <td>...</td>\n",
       "      <td>...</td>\n",
       "      <td>...</td>\n",
       "      <td>...</td>\n",
       "      <td>...</td>\n",
       "      <td>...</td>\n",
       "      <td>...</td>\n",
       "      <td>...</td>\n",
       "      <td>...</td>\n",
       "    </tr>\n",
       "    <tr>\n",
       "      <th>472</th>\n",
       "      <td>60</td>\n",
       "      <td>Yukon</td>\n",
       "      <td>Yukon</td>\n",
       "      <td>07-04-2020</td>\n",
       "      <td>7</td>\n",
       "      <td>0</td>\n",
       "      <td>0</td>\n",
       "      <td>7</td>\n",
       "      <td>775.0</td>\n",
       "      <td>NaN</td>\n",
       "      <td>NaN</td>\n",
       "      <td>NaN</td>\n",
       "      <td>NaN</td>\n",
       "      <td>NaN</td>\n",
       "    </tr>\n",
       "    <tr>\n",
       "      <th>473</th>\n",
       "      <td>61</td>\n",
       "      <td>Northwest Territories</td>\n",
       "      <td>Territoires du Nord-Ouest</td>\n",
       "      <td>07-04-2020</td>\n",
       "      <td>5</td>\n",
       "      <td>0</td>\n",
       "      <td>0</td>\n",
       "      <td>5</td>\n",
       "      <td>1217.0</td>\n",
       "      <td>NaN</td>\n",
       "      <td>NaN</td>\n",
       "      <td>NaN</td>\n",
       "      <td>NaN</td>\n",
       "      <td>NaN</td>\n",
       "    </tr>\n",
       "    <tr>\n",
       "      <th>474</th>\n",
       "      <td>62</td>\n",
       "      <td>Nunavut</td>\n",
       "      <td>Nunavut</td>\n",
       "      <td>07-04-2020</td>\n",
       "      <td>0</td>\n",
       "      <td>0</td>\n",
       "      <td>0</td>\n",
       "      <td>0</td>\n",
       "      <td>234.0</td>\n",
       "      <td>NaN</td>\n",
       "      <td>NaN</td>\n",
       "      <td>NaN</td>\n",
       "      <td>NaN</td>\n",
       "      <td>NaN</td>\n",
       "    </tr>\n",
       "    <tr>\n",
       "      <th>475</th>\n",
       "      <td>99</td>\n",
       "      <td>Repatriated travellers</td>\n",
       "      <td>Voyageurs rapatriés</td>\n",
       "      <td>07-04-2020</td>\n",
       "      <td>13</td>\n",
       "      <td>0</td>\n",
       "      <td>0</td>\n",
       "      <td>13</td>\n",
       "      <td>NaN</td>\n",
       "      <td>NaN</td>\n",
       "      <td>NaN</td>\n",
       "      <td>NaN</td>\n",
       "      <td>NaN</td>\n",
       "      <td>NaN</td>\n",
       "    </tr>\n",
       "    <tr>\n",
       "      <th>476</th>\n",
       "      <td>1</td>\n",
       "      <td>Canada</td>\n",
       "      <td>Canada</td>\n",
       "      <td>07-04-2020</td>\n",
       "      <td>17049</td>\n",
       "      <td>14</td>\n",
       "      <td>345</td>\n",
       "      <td>17063</td>\n",
       "      <td>346507.0</td>\n",
       "      <td>NaN</td>\n",
       "      <td>NaN</td>\n",
       "      <td>NaN</td>\n",
       "      <td>NaN</td>\n",
       "      <td>NaN</td>\n",
       "    </tr>\n",
       "  </tbody>\n",
       "</table>\n",
       "<p>477 rows × 14 columns</p>\n",
       "</div>"
      ],
      "text/plain": [
       "     pruid                  prname                   prnameFR        date  \\\n",
       "0       35                 Ontario                    Ontario  31-01-2020   \n",
       "1       59        British Columbia       Colombie-Britannique  31-01-2020   \n",
       "2        1                  Canada                     Canada  31-01-2020   \n",
       "3       35                 Ontario                    Ontario  08-02-2020   \n",
       "4       59        British Columbia       Colombie-Britannique  08-02-2020   \n",
       "..     ...                     ...                        ...         ...   \n",
       "472     60                   Yukon                      Yukon  07-04-2020   \n",
       "473     61   Northwest Territories  Territoires du Nord-Ouest  07-04-2020   \n",
       "474     62                 Nunavut                    Nunavut  07-04-2020   \n",
       "475     99  Repatriated travellers        Voyageurs rapatriés  07-04-2020   \n",
       "476      1                  Canada                     Canada  07-04-2020   \n",
       "\n",
       "     numconf  numprob  numdeaths  numtotal  numtested  numrecover  \\\n",
       "0          3        0          0         3        NaN         NaN   \n",
       "1          1        0          0         1        NaN         NaN   \n",
       "2          4        0          0         4        NaN         NaN   \n",
       "3          3        0          0         3        NaN         NaN   \n",
       "4          4        0          0         4        NaN         NaN   \n",
       "..       ...      ...        ...       ...        ...         ...   \n",
       "472        7        0          0         7      775.0         NaN   \n",
       "473        5        0          0         5     1217.0         NaN   \n",
       "474        0        0          0         0      234.0         NaN   \n",
       "475       13        0          0        13        NaN         NaN   \n",
       "476    17049       14        345     17063   346507.0         NaN   \n",
       "\n",
       "     percentrecover  ratetested  numtoday  percentoday  \n",
       "0               NaN         NaN       3.0          3.0  \n",
       "1               NaN         NaN       1.0          1.0  \n",
       "2               NaN         NaN       4.0          4.0  \n",
       "3               NaN         NaN       0.0          0.0  \n",
       "4               NaN         NaN       3.0          3.0  \n",
       "..              ...         ...       ...          ...  \n",
       "472             NaN         NaN       NaN          NaN  \n",
       "473             NaN         NaN       NaN          NaN  \n",
       "474             NaN         NaN       NaN          NaN  \n",
       "475             NaN         NaN       NaN          NaN  \n",
       "476             NaN         NaN       NaN          NaN  \n",
       "\n",
       "[477 rows x 14 columns]"
      ]
     },
     "execution_count": 331,
     "metadata": {},
     "output_type": "execute_result"
    }
   ],
   "source": [
    "df\n"
   ]
  },
  {
   "cell_type": "markdown",
   "metadata": {},
   "source": [
    "<h1>Cleaning Data Set"
   ]
  },
  {
   "cell_type": "code",
   "execution_count": 332,
   "metadata": {},
   "outputs": [
    {
     "data": {
      "text/html": [
       "<div>\n",
       "<style scoped>\n",
       "    .dataframe tbody tr th:only-of-type {\n",
       "        vertical-align: middle;\n",
       "    }\n",
       "\n",
       "    .dataframe tbody tr th {\n",
       "        vertical-align: top;\n",
       "    }\n",
       "\n",
       "    .dataframe thead th {\n",
       "        text-align: right;\n",
       "    }\n",
       "</style>\n",
       "<table border=\"1\" class=\"dataframe\">\n",
       "  <thead>\n",
       "    <tr style=\"text-align: right;\">\n",
       "      <th></th>\n",
       "      <th>Location</th>\n",
       "      <th>Date</th>\n",
       "      <th>Confirmed Cases</th>\n",
       "      <th>Probable Cases</th>\n",
       "      <th>Number of Deaths</th>\n",
       "      <th>Total Cases</th>\n",
       "      <th>Number Tested</th>\n",
       "      <th>numrecover</th>\n",
       "      <th>percentrecover</th>\n",
       "      <th>ratetested</th>\n",
       "      <th>New Cases Today</th>\n",
       "      <th>percentoday</th>\n",
       "    </tr>\n",
       "  </thead>\n",
       "  <tbody>\n",
       "    <tr>\n",
       "      <th>0</th>\n",
       "      <td>Ontario</td>\n",
       "      <td>31-01-2020</td>\n",
       "      <td>3</td>\n",
       "      <td>0</td>\n",
       "      <td>0</td>\n",
       "      <td>3</td>\n",
       "      <td>NaN</td>\n",
       "      <td>NaN</td>\n",
       "      <td>NaN</td>\n",
       "      <td>NaN</td>\n",
       "      <td>3.0</td>\n",
       "      <td>3.0</td>\n",
       "    </tr>\n",
       "    <tr>\n",
       "      <th>1</th>\n",
       "      <td>British Columbia</td>\n",
       "      <td>31-01-2020</td>\n",
       "      <td>1</td>\n",
       "      <td>0</td>\n",
       "      <td>0</td>\n",
       "      <td>1</td>\n",
       "      <td>NaN</td>\n",
       "      <td>NaN</td>\n",
       "      <td>NaN</td>\n",
       "      <td>NaN</td>\n",
       "      <td>1.0</td>\n",
       "      <td>1.0</td>\n",
       "    </tr>\n",
       "    <tr>\n",
       "      <th>2</th>\n",
       "      <td>Canada</td>\n",
       "      <td>31-01-2020</td>\n",
       "      <td>4</td>\n",
       "      <td>0</td>\n",
       "      <td>0</td>\n",
       "      <td>4</td>\n",
       "      <td>NaN</td>\n",
       "      <td>NaN</td>\n",
       "      <td>NaN</td>\n",
       "      <td>NaN</td>\n",
       "      <td>4.0</td>\n",
       "      <td>4.0</td>\n",
       "    </tr>\n",
       "    <tr>\n",
       "      <th>3</th>\n",
       "      <td>Ontario</td>\n",
       "      <td>08-02-2020</td>\n",
       "      <td>3</td>\n",
       "      <td>0</td>\n",
       "      <td>0</td>\n",
       "      <td>3</td>\n",
       "      <td>NaN</td>\n",
       "      <td>NaN</td>\n",
       "      <td>NaN</td>\n",
       "      <td>NaN</td>\n",
       "      <td>0.0</td>\n",
       "      <td>0.0</td>\n",
       "    </tr>\n",
       "    <tr>\n",
       "      <th>4</th>\n",
       "      <td>British Columbia</td>\n",
       "      <td>08-02-2020</td>\n",
       "      <td>4</td>\n",
       "      <td>0</td>\n",
       "      <td>0</td>\n",
       "      <td>4</td>\n",
       "      <td>NaN</td>\n",
       "      <td>NaN</td>\n",
       "      <td>NaN</td>\n",
       "      <td>NaN</td>\n",
       "      <td>3.0</td>\n",
       "      <td>3.0</td>\n",
       "    </tr>\n",
       "    <tr>\n",
       "      <th>...</th>\n",
       "      <td>...</td>\n",
       "      <td>...</td>\n",
       "      <td>...</td>\n",
       "      <td>...</td>\n",
       "      <td>...</td>\n",
       "      <td>...</td>\n",
       "      <td>...</td>\n",
       "      <td>...</td>\n",
       "      <td>...</td>\n",
       "      <td>...</td>\n",
       "      <td>...</td>\n",
       "      <td>...</td>\n",
       "    </tr>\n",
       "    <tr>\n",
       "      <th>472</th>\n",
       "      <td>Yukon</td>\n",
       "      <td>07-04-2020</td>\n",
       "      <td>7</td>\n",
       "      <td>0</td>\n",
       "      <td>0</td>\n",
       "      <td>7</td>\n",
       "      <td>775.0</td>\n",
       "      <td>NaN</td>\n",
       "      <td>NaN</td>\n",
       "      <td>NaN</td>\n",
       "      <td>NaN</td>\n",
       "      <td>NaN</td>\n",
       "    </tr>\n",
       "    <tr>\n",
       "      <th>473</th>\n",
       "      <td>Northwest Territories</td>\n",
       "      <td>07-04-2020</td>\n",
       "      <td>5</td>\n",
       "      <td>0</td>\n",
       "      <td>0</td>\n",
       "      <td>5</td>\n",
       "      <td>1217.0</td>\n",
       "      <td>NaN</td>\n",
       "      <td>NaN</td>\n",
       "      <td>NaN</td>\n",
       "      <td>NaN</td>\n",
       "      <td>NaN</td>\n",
       "    </tr>\n",
       "    <tr>\n",
       "      <th>474</th>\n",
       "      <td>Nunavut</td>\n",
       "      <td>07-04-2020</td>\n",
       "      <td>0</td>\n",
       "      <td>0</td>\n",
       "      <td>0</td>\n",
       "      <td>0</td>\n",
       "      <td>234.0</td>\n",
       "      <td>NaN</td>\n",
       "      <td>NaN</td>\n",
       "      <td>NaN</td>\n",
       "      <td>NaN</td>\n",
       "      <td>NaN</td>\n",
       "    </tr>\n",
       "    <tr>\n",
       "      <th>475</th>\n",
       "      <td>Repatriated travellers</td>\n",
       "      <td>07-04-2020</td>\n",
       "      <td>13</td>\n",
       "      <td>0</td>\n",
       "      <td>0</td>\n",
       "      <td>13</td>\n",
       "      <td>NaN</td>\n",
       "      <td>NaN</td>\n",
       "      <td>NaN</td>\n",
       "      <td>NaN</td>\n",
       "      <td>NaN</td>\n",
       "      <td>NaN</td>\n",
       "    </tr>\n",
       "    <tr>\n",
       "      <th>476</th>\n",
       "      <td>Canada</td>\n",
       "      <td>07-04-2020</td>\n",
       "      <td>17049</td>\n",
       "      <td>14</td>\n",
       "      <td>345</td>\n",
       "      <td>17063</td>\n",
       "      <td>346507.0</td>\n",
       "      <td>NaN</td>\n",
       "      <td>NaN</td>\n",
       "      <td>NaN</td>\n",
       "      <td>NaN</td>\n",
       "      <td>NaN</td>\n",
       "    </tr>\n",
       "  </tbody>\n",
       "</table>\n",
       "<p>477 rows × 12 columns</p>\n",
       "</div>"
      ],
      "text/plain": [
       "                   Location        Date  Confirmed Cases  Probable Cases  \\\n",
       "0                   Ontario  31-01-2020                3               0   \n",
       "1          British Columbia  31-01-2020                1               0   \n",
       "2                    Canada  31-01-2020                4               0   \n",
       "3                   Ontario  08-02-2020                3               0   \n",
       "4          British Columbia  08-02-2020                4               0   \n",
       "..                      ...         ...              ...             ...   \n",
       "472                   Yukon  07-04-2020                7               0   \n",
       "473   Northwest Territories  07-04-2020                5               0   \n",
       "474                 Nunavut  07-04-2020                0               0   \n",
       "475  Repatriated travellers  07-04-2020               13               0   \n",
       "476                  Canada  07-04-2020            17049              14   \n",
       "\n",
       "     Number of Deaths  Total Cases  Number Tested  numrecover  percentrecover  \\\n",
       "0                   0            3            NaN         NaN             NaN   \n",
       "1                   0            1            NaN         NaN             NaN   \n",
       "2                   0            4            NaN         NaN             NaN   \n",
       "3                   0            3            NaN         NaN             NaN   \n",
       "4                   0            4            NaN         NaN             NaN   \n",
       "..                ...          ...            ...         ...             ...   \n",
       "472                 0            7          775.0         NaN             NaN   \n",
       "473                 0            5         1217.0         NaN             NaN   \n",
       "474                 0            0          234.0         NaN             NaN   \n",
       "475                 0           13            NaN         NaN             NaN   \n",
       "476               345        17063       346507.0         NaN             NaN   \n",
       "\n",
       "     ratetested  New Cases Today  percentoday  \n",
       "0           NaN              3.0          3.0  \n",
       "1           NaN              1.0          1.0  \n",
       "2           NaN              4.0          4.0  \n",
       "3           NaN              0.0          0.0  \n",
       "4           NaN              3.0          3.0  \n",
       "..          ...              ...          ...  \n",
       "472         NaN              NaN          NaN  \n",
       "473         NaN              NaN          NaN  \n",
       "474         NaN              NaN          NaN  \n",
       "475         NaN              NaN          NaN  \n",
       "476         NaN              NaN          NaN  \n",
       "\n",
       "[477 rows x 12 columns]"
      ]
     },
     "execution_count": 332,
     "metadata": {},
     "output_type": "execute_result"
    }
   ],
   "source": [
    "df.drop(['pruid','prnameFR'], axis=1,inplace=True)\n",
    "df.rename(columns = {'prname':'Location', 'date':'Date', \n",
    "                              'numconf':'Confirmed Cases',\n",
    "                              'numprob':'Probable Cases',\n",
    "                              'numdeaths':'Number of Deaths',\n",
    "                              'numtotal':'Total Cases',\n",
    "                               'numtested':'Number Tested',\n",
    "                                'numtoday':'New Cases Today',\n",
    "                               'percenttoday':'Percentage'}, inplace = True) \n",
    "df"
   ]
  },
  {
   "cell_type": "code",
   "execution_count": 333,
   "metadata": {},
   "outputs": [
    {
     "data": {
      "text/html": [
       "<style  type=\"text/css\" >\n",
       "    #T_22350c64_79cd_11ea_9b3f_8c85901b0ae4row0_col0 {\n",
       "            background-color:  #67000d;\n",
       "            color:  #f1f1f1;\n",
       "        }    #T_22350c64_79cd_11ea_9b3f_8c85901b0ae4row1_col0 {\n",
       "            background-color:  #f75b40;\n",
       "            color:  #000000;\n",
       "        }    #T_22350c64_79cd_11ea_9b3f_8c85901b0ae4row2_col0 {\n",
       "            background-color:  #fcbba1;\n",
       "            color:  #000000;\n",
       "        }    #T_22350c64_79cd_11ea_9b3f_8c85901b0ae4row3_col0 {\n",
       "            background-color:  #fdcbb6;\n",
       "            color:  #000000;\n",
       "        }    #T_22350c64_79cd_11ea_9b3f_8c85901b0ae4row4_col0 {\n",
       "            background-color:  #ffeee7;\n",
       "            color:  #000000;\n",
       "        }    #T_22350c64_79cd_11ea_9b3f_8c85901b0ae4row5_col0 {\n",
       "            background-color:  #ffefe8;\n",
       "            color:  #000000;\n",
       "        }    #T_22350c64_79cd_11ea_9b3f_8c85901b0ae4row6_col0 {\n",
       "            background-color:  #fff0e8;\n",
       "            color:  #000000;\n",
       "        }    #T_22350c64_79cd_11ea_9b3f_8c85901b0ae4row7_col0 {\n",
       "            background-color:  #fff1ea;\n",
       "            color:  #000000;\n",
       "        }    #T_22350c64_79cd_11ea_9b3f_8c85901b0ae4row8_col0 {\n",
       "            background-color:  #fff2ec;\n",
       "            color:  #000000;\n",
       "        }    #T_22350c64_79cd_11ea_9b3f_8c85901b0ae4row9_col0 {\n",
       "            background-color:  #fff4ef;\n",
       "            color:  #000000;\n",
       "        }    #T_22350c64_79cd_11ea_9b3f_8c85901b0ae4row10_col0 {\n",
       "            background-color:  #fff5f0;\n",
       "            color:  #000000;\n",
       "        }    #T_22350c64_79cd_11ea_9b3f_8c85901b0ae4row11_col0 {\n",
       "            background-color:  #fff5f0;\n",
       "            color:  #000000;\n",
       "        }    #T_22350c64_79cd_11ea_9b3f_8c85901b0ae4row12_col0 {\n",
       "            background-color:  #fff5f0;\n",
       "            color:  #000000;\n",
       "        }    #T_22350c64_79cd_11ea_9b3f_8c85901b0ae4row13_col0 {\n",
       "            background-color:  #fff5f0;\n",
       "            color:  #000000;\n",
       "        }</style><table id=\"T_22350c64_79cd_11ea_9b3f_8c85901b0ae4\" ><thead>    <tr>        <th class=\"blank level0\" ></th>        <th class=\"col_heading level0 col0\" >Total Cases</th>    </tr>    <tr>        <th class=\"index_name level0\" >Location</th>        <th class=\"blank\" ></th>    </tr></thead><tbody>\n",
       "                <tr>\n",
       "                        <th id=\"T_22350c64_79cd_11ea_9b3f_8c85901b0ae4level0_row0\" class=\"row_heading level0 row0\" >Quebec</th>\n",
       "                        <td id=\"T_22350c64_79cd_11ea_9b3f_8c85901b0ae4row0_col0\" class=\"data row0 col0\" >68849</td>\n",
       "            </tr>\n",
       "            <tr>\n",
       "                        <th id=\"T_22350c64_79cd_11ea_9b3f_8c85901b0ae4level0_row1\" class=\"row_heading level0 row1\" >Ontario</th>\n",
       "                        <td id=\"T_22350c64_79cd_11ea_9b3f_8c85901b0ae4row1_col0\" class=\"data row1 col0\" >37292</td>\n",
       "            </tr>\n",
       "            <tr>\n",
       "                        <th id=\"T_22350c64_79cd_11ea_9b3f_8c85901b0ae4level0_row2\" class=\"row_heading level0 row2\" >British Columbia</th>\n",
       "                        <td id=\"T_22350c64_79cd_11ea_9b3f_8c85901b0ae4row2_col0\" class=\"data row2 col0\" >17420</td>\n",
       "            </tr>\n",
       "            <tr>\n",
       "                        <th id=\"T_22350c64_79cd_11ea_9b3f_8c85901b0ae4level0_row3\" class=\"row_heading level0 row3\" >Alberta</th>\n",
       "                        <td id=\"T_22350c64_79cd_11ea_9b3f_8c85901b0ae4row3_col0\" class=\"data row3 col0\" >13716</td>\n",
       "            </tr>\n",
       "            <tr>\n",
       "                        <th id=\"T_22350c64_79cd_11ea_9b3f_8c85901b0ae4level0_row4\" class=\"row_heading level0 row4\" >Saskatchewan</th>\n",
       "                        <td id=\"T_22350c64_79cd_11ea_9b3f_8c85901b0ae4row4_col0\" class=\"data row4 col0\" >2824</td>\n",
       "            </tr>\n",
       "            <tr>\n",
       "                        <th id=\"T_22350c64_79cd_11ea_9b3f_8c85901b0ae4level0_row5\" class=\"row_heading level0 row5\" >Nova Scotia</th>\n",
       "                        <td id=\"T_22350c64_79cd_11ea_9b3f_8c85901b0ae4row5_col0\" class=\"data row5 col0\" >2596</td>\n",
       "            </tr>\n",
       "            <tr>\n",
       "                        <th id=\"T_22350c64_79cd_11ea_9b3f_8c85901b0ae4level0_row6\" class=\"row_heading level0 row6\" >Newfoundland and Labrador</th>\n",
       "                        <td id=\"T_22350c64_79cd_11ea_9b3f_8c85901b0ae4row6_col0\" class=\"data row6 col0\" >2298</td>\n",
       "            </tr>\n",
       "            <tr>\n",
       "                        <th id=\"T_22350c64_79cd_11ea_9b3f_8c85901b0ae4level0_row7\" class=\"row_heading level0 row7\" >Manitoba</th>\n",
       "                        <td id=\"T_22350c64_79cd_11ea_9b3f_8c85901b0ae4row7_col0\" class=\"data row7 col0\" >1880</td>\n",
       "            </tr>\n",
       "            <tr>\n",
       "                        <th id=\"T_22350c64_79cd_11ea_9b3f_8c85901b0ae4level0_row8\" class=\"row_heading level0 row8\" >New Brunswick</th>\n",
       "                        <td id=\"T_22350c64_79cd_11ea_9b3f_8c85901b0ae4row8_col0\" class=\"data row8 col0\" >1149</td>\n",
       "            </tr>\n",
       "            <tr>\n",
       "                        <th id=\"T_22350c64_79cd_11ea_9b3f_8c85901b0ae4level0_row9\" class=\"row_heading level0 row9\" >Repatriated Travellers</th>\n",
       "                        <td id=\"T_22350c64_79cd_11ea_9b3f_8c85901b0ae4row9_col0\" class=\"data row9 col0\" >288</td>\n",
       "            </tr>\n",
       "            <tr>\n",
       "                        <th id=\"T_22350c64_79cd_11ea_9b3f_8c85901b0ae4level0_row10\" class=\"row_heading level0 row10\" >Prince Edward Island</th>\n",
       "                        <td id=\"T_22350c64_79cd_11ea_9b3f_8c85901b0ae4row10_col0\" class=\"data row10 col0\" >258</td>\n",
       "            </tr>\n",
       "            <tr>\n",
       "                        <th id=\"T_22350c64_79cd_11ea_9b3f_8c85901b0ae4level0_row11\" class=\"row_heading level0 row11\" >Yukon</th>\n",
       "                        <td id=\"T_22350c64_79cd_11ea_9b3f_8c85901b0ae4row11_col0\" class=\"data row11 col0\" >74</td>\n",
       "            </tr>\n",
       "            <tr>\n",
       "                        <th id=\"T_22350c64_79cd_11ea_9b3f_8c85901b0ae4level0_row12\" class=\"row_heading level0 row12\" >Northwest Territories</th>\n",
       "                        <td id=\"T_22350c64_79cd_11ea_9b3f_8c85901b0ae4row12_col0\" class=\"data row12 col0\" >37</td>\n",
       "            </tr>\n",
       "            <tr>\n",
       "                        <th id=\"T_22350c64_79cd_11ea_9b3f_8c85901b0ae4level0_row13\" class=\"row_heading level0 row13\" >Nunavut</th>\n",
       "                        <td id=\"T_22350c64_79cd_11ea_9b3f_8c85901b0ae4row13_col0\" class=\"data row13 col0\" >0</td>\n",
       "            </tr>\n",
       "    </tbody></table>"
      ],
      "text/plain": [
       "<pandas.io.formats.style.Styler at 0x12c6cf198>"
      ]
     },
     "execution_count": 333,
     "metadata": {},
     "output_type": "execute_result"
    }
   ],
   "source": [
    "mask = df['Location'].isin(['Canada'])\n",
    "prov=df[~mask]\n",
    "prov = prov.set_index('Location')\n",
    "prov = prov.rename(index={'Repatriated travellers':'Repatriated Travellers'})\n",
    "\n",
    "\n",
    "prov_data=prov.groupby(['Location'])['Total Cases'].sum().sort_values(ascending=False).to_frame()\n",
    "prov_data.style.background_gradient(cmap='Reds')\n"
   ]
  },
  {
   "cell_type": "code",
   "execution_count": 334,
   "metadata": {},
   "outputs": [
    {
     "data": {
      "text/plain": [
       "Text(0, 0.5, 'Confirmed Cases')"
      ]
     },
     "execution_count": 334,
     "metadata": {},
     "output_type": "execute_result"
    },
    {
     "data": {
      "image/png": "[encoded data removed]",
      "text/plain": [
       "<Figure size 1224x576 with 1 Axes>"
      ]
     },
     "metadata": {
      "needs_background": "light"
     },
     "output_type": "display_data"
    }
   ],
   "source": [
    "plt.rcParams['figure.figsize']=17,8\n",
    "plt.bar(prov.index,prov['Total Cases'])\n",
    "plt.xticks(rotation=90)\n",
    "plt.title('Confirmed Cases by Province/Territory')\n",
    "\n",
    "plt.xlabel('Province/Territory')\n",
    "plt.ylabel('Confirmed Cases')\n"
   ]
  },
  {
   "cell_type": "code",
   "execution_count": 335,
   "metadata": {},
   "outputs": [
    {
     "data": {
      "text/plain": [
       "Text(0, 0.5, 'Confirmed Cases')"
      ]
     },
     "execution_count": 335,
     "metadata": {},
     "output_type": "execute_result"
    },
    {
     "data": {
      "image/png": "[encoded data removed]",
      "text/plain": [
       "<Figure size 1224x576 with 1 Axes>"
      ]
     },
     "metadata": {
      "needs_background": "light"
     },
     "output_type": "display_data"
    }
   ],
   "source": [
    "mask = df['Location'].isin(['Canada'])\n",
    "nat=df[mask]\n",
    "\n",
    "# plt.rcParams['figure.figsize']=17,8\n",
    "plt.bar(nat['Date'],nat['Total Cases'])\n",
    "plt.xticks(rotation=90)\n",
    "\n",
    "plt.title('Confirmed cases in Canada ')\n",
    "\n",
    "plt.xlabel('Date')\n",
    "plt.ylabel('Confirmed Cases')"
   ]
  },
  {
   "cell_type": "code",
   "execution_count": 336,
   "metadata": {},
   "outputs": [
    {
     "data": {
      "image/png": "[encoded data removed]",
      "text/plain": [
       "<Figure size 1224x576 with 1 Axes>"
      ]
     },
     "metadata": {
      "needs_background": "light"
     },
     "output_type": "display_data"
    },
    {
     "data": {
      "image/png": "[encoded data removed]",
      "text/plain": [
       "<Figure size 1224x576 with 1 Axes>"
      ]
     },
     "metadata": {
      "needs_background": "light"
     },
     "output_type": "display_data"
    },
    {
     "data": {
      "image/png": "[encoded data removed]",
      "text/plain": [
       "<Figure size 1224x576 with 1 Axes>"
      ]
     },
     "metadata": {
      "needs_background": "light"
     },
     "output_type": "display_data"
    },
    {
     "data": {
      "image/png": "[encoded data removed]",
      "text/plain": [
       "<Figure size 1224x576 with 1 Axes>"
      ]
     },
     "metadata": {
      "needs_background": "light"
     },
     "output_type": "display_data"
    },
    {
     "data": {
      "image/png": "[encoded data removed]",
      "text/plain": [
       "<Figure size 1224x576 with 1 Axes>"
      ]
     },
     "metadata": {
      "needs_background": "light"
     },
     "output_type": "display_data"
    },
    {
     "data": {
      "image/png": "[encoded data removed]",
      "text/plain": [
       "<Figure size 1224x576 with 1 Axes>"
      ]
     },
     "metadata": {
      "needs_background": "light"
     },
     "output_type": "display_data"
    },
    {
     "data": {
      "image/png": "[encoded data removed]",
      "text/plain": [
       "<Figure size 1224x576 with 1 Axes>"
      ]
     },
     "metadata": {
      "needs_background": "light"
     },
     "output_type": "display_data"
    },
    {
     "data": {
      "image/png": "[encoded data removed]",
      "text/plain": [
       "<Figure size 1224x576 with 1 Axes>"
      ]
     },
     "metadata": {
      "needs_background": "light"
     },
     "output_type": "display_data"
    },
    {
     "data": {
      "image/png": "[encoded data removed]",
      "text/plain": [
       "<Figure size 1224x576 with 1 Axes>"
      ]
     },
     "metadata": {
      "needs_background": "light"
     },
     "output_type": "display_data"
    },
    {
     "data": {
      "image/png": "[encoded data removed]",
      "text/plain": [
       "<Figure size 1224x576 with 1 Axes>"
      ]
     },
     "metadata": {
      "needs_background": "light"
     },
     "output_type": "display_data"
    },
    {
     "data": {
      "image/png": "[encoded data removed]",
      "text/plain": [
       "<Figure size 1224x576 with 1 Axes>"
      ]
     },
     "metadata": {
      "needs_background": "light"
     },
     "output_type": "display_data"
    },
    {
     "data": {
      "image/png": "[encoded data removed]",
      "text/plain": [
       "<Figure size 1224x576 with 1 Axes>"
      ]
     },
     "metadata": {
      "needs_background": "light"
     },
     "output_type": "display_data"
    },
    {
     "data": {
      "image/png": "[encoded data removed]",
      "text/plain": [
       "<Figure size 1224x576 with 1 Axes>"
      ]
     },
     "metadata": {
      "needs_background": "light"
     },
     "output_type": "display_data"
    }
   ],
   "source": [
    " locations =['Ontario','Quebec','British Columbia','Alberta','Saskatchewan','Nova Scotia','Newfoundland and Labrador',\n",
    "           'Manitoba','New Brunswick','Prince Edward Island','Northwest Territories','Nunavut','Yukon']\n",
    "\n",
    "for i in range(len(locations)):\n",
    "    plt.figure()\n",
    "    temp = df[df['Location']==locations[i]]\n",
    "    plt.title(f'Confirmed Cases in {locations[i]}')\n",
    "    plt.bar(temp['Date'] ,temp['Total Cases'])\n",
    "   \n",
    "    plt.xticks(rotation=90)\n",
    "\n",
    "plt.show()\n",
    "\n",
    "\n",
    "\n",
    "\n"
   ]
  },
  {
   "cell_type": "code",
   "execution_count": 337,
   "metadata": {},
   "outputs": [
    {
     "data": {
      "text/plain": [
       "<matplotlib.legend.Legend at 0x12f424d30>"
      ]
     },
     "execution_count": 337,
     "metadata": {},
     "output_type": "execute_result"
    },
    {
     "data": {
      "image/png": "[encoded data removed]",
      "text/plain": [
       "<Figure size 1224x576 with 1 Axes>"
      ]
     },
     "metadata": {
      "needs_background": "light"
     },
     "output_type": "display_data"
    }
   ],
   "source": [
    "locations =['Ontario','Quebec','British Columbia','Alberta','Saskatchewan','Nova Scotia','Newfoundland and Labrador',\n",
    "           'Manitoba','New Brunswick','Prince Edward Island','Northwest Territories','Nunavut','Yukon']\n",
    "\n",
    "for i in range(len(locations)):\n",
    "    \n",
    "    temp = df[df['Location']==locations[i]]\n",
    "    plt.bar(temp['Date'] ,temp['Total Cases'])\n",
    "plt.xticks(rotation=90)\n",
    "plt.title(f'Confirmed Cases by Province/Territory')\n",
    "plt.legend(locations)"
   ]
  },
  {
   "cell_type": "code",
   "execution_count": 355,
   "metadata": {},
   "outputs": [
    {
     "data": {
      "text/html": [
       "<div>\n",
       "<style scoped>\n",
       "    .dataframe tbody tr th:only-of-type {\n",
       "        vertical-align: middle;\n",
       "    }\n",
       "\n",
       "    .dataframe tbody tr th {\n",
       "        vertical-align: top;\n",
       "    }\n",
       "\n",
       "    .dataframe thead th {\n",
       "        text-align: right;\n",
       "    }\n",
       "</style>\n",
       "<table border=\"1\" class=\"dataframe\">\n",
       "  <thead>\n",
       "    <tr style=\"text-align: right;\">\n",
       "      <th></th>\n",
       "      <th>Location</th>\n",
       "      <th>Confirmed</th>\n",
       "      <th>Cases per 1M people</th>\n",
       "      <th>Recovered</th>\n",
       "      <th>Deaths</th>\n",
       "      <th>Plot Values</th>\n",
       "      <th>Code</th>\n",
       "    </tr>\n",
       "  </thead>\n",
       "  <tbody>\n",
       "    <tr>\n",
       "      <th>0</th>\n",
       "      <td>Canada</td>\n",
       "      <td>18465</td>\n",
       "      <td>486.19</td>\n",
       "      <td>4333</td>\n",
       "      <td>402</td>\n",
       "      <td>486.19</td>\n",
       "      <td>CAN</td>\n",
       "    </tr>\n",
       "    <tr>\n",
       "      <th>1</th>\n",
       "      <td>United States of America</td>\n",
       "      <td>402823</td>\n",
       "      <td>1222.32</td>\n",
       "      <td>22500</td>\n",
       "      <td>12929</td>\n",
       "      <td>1222.32</td>\n",
       "      <td>USA</td>\n",
       "    </tr>\n",
       "    <tr>\n",
       "      <th>2</th>\n",
       "      <td>Spain</td>\n",
       "      <td>146690</td>\n",
       "      <td>3114.41</td>\n",
       "      <td>48021</td>\n",
       "      <td>14673</td>\n",
       "      <td>3114.41</td>\n",
       "      <td>ESP</td>\n",
       "    </tr>\n",
       "    <tr>\n",
       "      <th>3</th>\n",
       "      <td>Italy</td>\n",
       "      <td>135586</td>\n",
       "      <td>2250.64</td>\n",
       "      <td>24392</td>\n",
       "      <td>17127</td>\n",
       "      <td>2250.64</td>\n",
       "      <td>ITA</td>\n",
       "    </tr>\n",
       "    <tr>\n",
       "      <th>4</th>\n",
       "      <td>Germany</td>\n",
       "      <td>109702</td>\n",
       "      <td>1319.34</td>\n",
       "      <td>31432</td>\n",
       "      <td>2105</td>\n",
       "      <td>1319.34</td>\n",
       "      <td>DEU</td>\n",
       "    </tr>\n",
       "    <tr>\n",
       "      <th>...</th>\n",
       "      <td>...</td>\n",
       "      <td>...</td>\n",
       "      <td>...</td>\n",
       "      <td>...</td>\n",
       "      <td>...</td>\n",
       "      <td>...</td>\n",
       "      <td>...</td>\n",
       "    </tr>\n",
       "    <tr>\n",
       "      <th>178</th>\n",
       "      <td>Burundi</td>\n",
       "      <td>3</td>\n",
       "      <td>0.27</td>\n",
       "      <td>0</td>\n",
       "      <td>0</td>\n",
       "      <td>0.27</td>\n",
       "      <td>BDI</td>\n",
       "    </tr>\n",
       "    <tr>\n",
       "      <th>179</th>\n",
       "      <td>Papua New Guinea</td>\n",
       "      <td>2</td>\n",
       "      <td>0.22</td>\n",
       "      <td>0</td>\n",
       "      <td>0</td>\n",
       "      <td>0.22</td>\n",
       "      <td>PNG</td>\n",
       "    </tr>\n",
       "    <tr>\n",
       "      <th>180</th>\n",
       "      <td>South Sudan</td>\n",
       "      <td>2</td>\n",
       "      <td>0.16</td>\n",
       "      <td>0</td>\n",
       "      <td>0</td>\n",
       "      <td>0.16</td>\n",
       "      <td>SSD</td>\n",
       "    </tr>\n",
       "    <tr>\n",
       "      <th>181</th>\n",
       "      <td>Saint Pierre and Miquelon</td>\n",
       "      <td>1</td>\n",
       "      <td>NaN</td>\n",
       "      <td>0</td>\n",
       "      <td>0</td>\n",
       "      <td>NaN</td>\n",
       "      <td>SPM</td>\n",
       "    </tr>\n",
       "    <tr>\n",
       "      <th>182</th>\n",
       "      <td>Timor-Leste</td>\n",
       "      <td>1</td>\n",
       "      <td>0.72</td>\n",
       "      <td>0</td>\n",
       "      <td>0</td>\n",
       "      <td>0.72</td>\n",
       "      <td>TLS</td>\n",
       "    </tr>\n",
       "  </tbody>\n",
       "</table>\n",
       "<p>183 rows × 7 columns</p>\n",
       "</div>"
      ],
      "text/plain": [
       "                      Location  Confirmed  Cases per 1M people Recovered  \\\n",
       "0                       Canada      18465               486.19      4333   \n",
       "1     United States of America     402823              1222.32     22500   \n",
       "2                        Spain     146690              3114.41     48021   \n",
       "3                        Italy     135586              2250.64     24392   \n",
       "4                      Germany     109702              1319.34     31432   \n",
       "..                         ...        ...                  ...       ...   \n",
       "178                    Burundi          3                 0.27         0   \n",
       "179           Papua New Guinea          2                 0.22         0   \n",
       "180                South Sudan          2                 0.16         0   \n",
       "181  Saint Pierre and Miquelon          1                  NaN         0   \n",
       "182                Timor-Leste          1                 0.72         0   \n",
       "\n",
       "     Deaths  Plot Values Code  \n",
       "0       402       486.19  CAN  \n",
       "1     12929      1222.32  USA  \n",
       "2     14673      3114.41  ESP  \n",
       "3     17127      2250.64  ITA  \n",
       "4      2105      1319.34  DEU  \n",
       "..      ...          ...  ...  \n",
       "178       0         0.27  BDI  \n",
       "179       0         0.22  PNG  \n",
       "180       0         0.16  SSD  \n",
       "181       0          NaN  SPM  \n",
       "182       0         0.72  TLS  \n",
       "\n",
       "[183 rows x 7 columns]"
      ]
     },
     "execution_count": 355,
     "metadata": {},
     "output_type": "execute_result"
    }
   ],
   "source": [
    "worldwideData=pd.read_excel('COVIDDATA.xlsx')\n",
    "\n",
    "\n",
    "\n",
    "#worldwideData['Plot Values'] = worldwideData['Plot Values'].apply(np.ceil)\n",
    "country_codes=pd.read_csv('country_codes.csv')\n",
    "iso_codes=country_codes.filter(['alpha-3', 'name'])\n",
    "\n",
    "iso_codes.columns = ['Code', 'Location']\n",
    "\n",
    "dfW=pd.merge(worldwideData,iso_codes)\n",
    "\n",
    "# \n",
    "\n",
    "\n",
    "dfW\n"
   ]
  },
  {
   "cell_type": "code",
   "execution_count": 358,
   "metadata": {},
   "outputs": [
    {
     "data": {
      "application/vnd.plotly.v1+json": {
       "config": {
        "plotlyServerURL": "https://plot.ly"
       },
       "data": [
        {
         "coloraxis": "coloraxis",
         "customdata": [
          [
           486.19,
           4333,
           402
          ],
          [
           1222.32,
           22500,
           12929
          ],
          [
           3114.41,
           48021,
           14673
          ],
          [
           2250.64,
           24392,
           17127
          ],
          [
           1319.34,
           31432,
           2105
          ],
          [
           58.35,
           77279,
           3333
          ],
          [
           1165.35,
           19337,
           10328
          ],
          [
           410.19,
           1582,
           725
          ],
          [
           2030.73,
           4681,
           2240
          ],
          [
           2618.98,
           8704,
           846
          ],
          [
           1177.52,
           "—",
           2248
          ],
          [
           66.48,
           127,
           688
          ],
          [
           1443.62,
           4512,
           273
          ],
          [
           1210.71,
           184,
           345
          ],
          [
           1024.4,
           801,
           72
          ],
          [
           59.1,
           580,
           63
          ],
          [
           824.7,
           333,
           695
          ],
          [
           1125.65,
           "—",
           93
          ],
          [
           234.36,
           2813,
           50
          ],
          [
           1160.01,
           25,
           210
          ],
          [
           924.99,
           1621,
           218
          ],
          [
           3.88,
           411,
           149
          ],
          [
           267.75,
           728,
           43
          ],
          [
           470.64,
           181,
           91
          ],
          [
           130.28,
           222,
           136
          ],
          [
           245.35,
           528,
           209
          ],
          [
           33.8,
           632,
           81
          ],
          [
           19.09,
           467,
           58
          ],
          [
           125.82,
           1487,
           65
          ],
          [
           228.85,
           140,
           220
          ],
          [
           35.67,
           96,
           182
          ],
          [
           4837.97,
           310,
           44
          ],
          [
           11.07,
           222,
           240
          ],
          [
           91.93,
           1231,
           107
          ],
          [
           85.69,
           631,
           41
          ],
          [
           22,
           633,
           141
          ],
          [
           268.85,
           239,
           12
          ],
          [
           449.93,
           "—",
           40
          ],
          [
           351.39,
           118,
           61
          ],
          [
           35.63,
           888,
           30
          ],
          [
           533.09,
           16,
           59
          ],
          [
           804.43,
           178,
           6
          ],
          [
           188.83,
           36,
           98
          ],
          [
           170.82,
           269,
           81
          ],
          [
           36.04,
           100,
           50
          ],
          [
           29.76,
           45,
           13
          ],
          [
           38.16,
           266,
           60
          ],
          [
           39.83,
           35,
           52
          ],
          [
           284.56,
           406,
           7
          ],
          [
           4354.03,
           559,
           6
          ],
          [
           34.14,
           90,
           193
          ],
          [
           14.47,
           276,
           94
          ],
          [
           329.47,
           179,
           19
          ],
          [
           34.64,
           97,
           91
          ],
          [
           892.08,
           69,
           24
          ],
          [
           521,
           102,
           40
          ],
          [
           113.24,
           77,
           13
          ],
          [
           26.35,
           344,
           64
          ],
          [
           194.77,
           282,
           1
          ],
          [
           128.12,
           264,
           4
          ],
          [
           326.48,
           8,
           15
          ],
          [
           91.58,
           94,
           58
          ],
          [
           297.89,
           114,
           9
          ],
          [
           193.43,
           111,
           1
          ],
          [
           81.65,
           63,
           8
          ],
          [
           531.98,
           467,
           5
          ],
          [
           240.53,
           79,
           34
          ],
          [
           37.97,
           53,
           7
          ],
          [
           25.8,
           60,
           9
          ],
          [
           53.15,
           25,
           23
          ],
          [
           297.04,
           35,
           30
          ],
          [
           84.71,
           42,
           24
          ],
          [
           106.48,
           13,
           2
          ],
          [
           302.6,
           16,
           2
          ],
          [
           84.24,
           62,
           19
          ],
          [
           7273.38,
           52,
           23
          ],
          [
           15.98,
           30,
           3
          ],
          [
           552.57,
           47,
           14
          ],
          [
           95.49,
           24,
           2
          ],
          [
           120.5,
           93,
           5
          ],
          [
           13.13,
           18,
           11
          ],
          [
           89.82,
           72,
           2
          ],
          [
           140.55,
           154,
           22
          ],
          [
           35.33,
           27,
           11
          ],
          [
           18.4,
           127,
           19
          ],
          [
           417.83,
           40,
           0
          ],
          [
           33.15,
           138,
           6
          ],
          [
           13.52,
           41,
           3
          ],
          [
           34.07,
           6,
           22
          ],
          [
           605.8,
           5,
           0
          ],
          [
           9.48,
           31,
           5
          ],
          [
           8310,
           40,
           34
          ],
          [
           12.46,
           26,
           11
          ],
          [
           41.33,
           25,
           4
          ],
          [
           211.69,
           "—",
           7
          ],
          [
           1.23,
           44,
           6
          ],
          [
           398.48,
           4,
           2
          ],
          [
           14.62,
           105,
           2
          ],
          [
           1.29,
           33,
           12
          ],
          [
           55.86,
           48,
           3
          ],
          [
           8.53,
           42,
           6
          ],
          [
           3530.04,
           131,
           0
          ],
          [
           3.76,
           7,
           6
          ],
          [
           747.42,
           22,
           2
          ],
          [
           1591.76,
           "—",
           3
          ],
          [
           2643.65,
           34,
           4
          ],
          [
           1896.44,
           82,
           1
          ],
          [
           391.64,
           50,
           4
          ],
          [
           11.79,
           5,
           0
          ],
          [
           341.72,
           31,
           7
          ],
          [
           7.65,
           63,
           0
          ],
          [
           16.08,
           15,
           5
          ],
          [
           3353.02,
           60,
           0
          ],
          [
           8.49,
           7,
           0
          ],
          [
           76.98,
           1,
           7
          ],
          [
           14.34,
           9,
           5
          ],
          [
           83.46,
           9,
           0
          ],
          [
           3.35,
           2,
           0
          ],
          [
           5.24,
           17,
           3
          ],
          [
           2062.66,
           3,
           1
          ],
          [
           1987.15,
           0,
           1
          ],
          [
           658.9,
           14,
           0
          ],
          [
           252.48,
           34,
           0
          ],
          [
           8.62,
           23,
           3
          ],
          [
           219.49,
           6,
           3
          ],
          [
           23.11,
           9,
           3
          ],
          [
           2.8,
           12,
           5
          ],
          [
           0.53,
           4,
           2
          ],
          [
           1.29,
           0,
           0
          ],
          [
           170.34,
           0,
           0
          ],
          [
           683.76,
           6,
           1
          ],
          [
           64.74,
           10,
           0
          ],
          [
           609.12,
           21,
           2
          ],
          [
           2.18,
           3,
           1
          ],
          [
           20.57,
           0,
           0
          ],
          [
           42.16,
           8,
           5
          ],
          [
           8.86,
           0,
           0
          ],
          [
           13.81,
           1,
           1
          ],
          [
           2.22,
           5,
           1
          ],
          [
           2.16,
           "—",
           1
          ],
          [
           2.91,
           1,
           1
          ],
          [
           196.99,
           0,
           1
          ],
          [
           50.7,
           13,
           0
          ],
          [
           63.78,
           1,
           0
          ],
          [
           0.55,
           2,
           2
          ],
          [
           11.78,
           1,
           0
          ],
          [
           6.51,
           2,
           0
          ],
          [
           16.95,
           0,
           0
          ],
          [
           4.53,
           11,
           0
          ],
          [
           194.96,
           0,
           0
          ],
          [
           78.35,
           0,
           0
          ],
          [
           81.93,
           5,
           1
          ],
          [
           2.9,
           0,
           3
          ],
          [
           107.14,
           0,
           0
          ],
          [
           0.28,
           2,
           2
          ],
          [
           196.14,
           10,
           0
          ],
          [
           208.24,
           0,
           0
          ],
          [
           112.68,
           0,
           0
          ],
          [
           0.73,
           0,
           2
          ],
          [
           0.62,
           2,
           0
          ],
          [
           9.15,
           4,
           0
          ],
          [
           0.33,
           1,
           0
          ],
          [
           17.2,
           3,
           1
          ],
          [
           0.3,
           1,
           0
          ],
          [
           301.15,
           0,
           0
          ],
          [
           1.46,
           0,
           0
          ],
          [
           0.42,
           0,
           1
          ],
          [
           null,
           0,
           0
          ],
          [
           0.5,
           1,
           0
          ],
          [
           193.38,
           "—",
           1
          ],
          [
           17.14,
           0,
           1
          ],
          [
           0.89,
           0,
           0
          ],
          [
           2.57,
           0,
           1
          ],
          [
           1.47,
           2,
           1
          ],
          [
           0.93,
           2,
           1
          ],
          [
           null,
           1,
           0
          ],
          [
           6.74,
           2,
           0
          ],
          [
           201.76,
           0,
           0
          ],
          [
           0.27,
           0,
           0
          ],
          [
           0.22,
           0,
           0
          ],
          [
           0.16,
           0,
           0
          ],
          [
           null,
           0,
           0
          ],
          [
           0.72,
           0,
           0
          ]
         ],
         "geo": "geo",
         "hoverlabel": {
          "namelength": 0
         },
         "hovertemplate": "<b>%{hovertext}</b><br><br>Cases per 1M people=%{customdata[0]}<br>Recovered=%{customdata[1]}<br>Deaths=%{customdata[2]}<br>Code=%{location}<br>Confirmed Cases=%{z}",
         "hovertext": [
          "Canada",
          "United States of America",
          "Spain",
          "Italy",
          "Germany",
          "China",
          "France",
          "Turkey",
          "Belgium",
          "Switzerland",
          "Netherlands",
          "Brazil",
          "Austria",
          "Portugal",
          "Israel",
          "Russian Federation",
          "Sweden",
          "Norway",
          "Australia",
          "Ireland",
          "Denmark",
          "India",
          "Chile",
          "Czechia",
          "Poland",
          "Romania",
          "Japan",
          "Pakistan",
          "Malaysia",
          "Ecuador",
          "Philippines",
          "Luxembourg",
          "Indonesia",
          "Peru",
          "Saudi Arabia",
          "Mexico",
          "United Arab Emirates",
          "Finland",
          "Serbia",
          "Thailand",
          "Panama",
          "Qatar",
          "Dominican Republic",
          "Greece",
          "Colombia",
          "South Africa",
          "Argentina",
          "Ukraine",
          "Singapore",
          "Iceland",
          "Algeria",
          "Egypt",
          "Croatia",
          "Morocco",
          "Estonia",
          "Slovenia",
          "Belarus",
          "Iraq",
          "New Zealand",
          "Hong Kong",
          "Lithuania",
          "Hungary",
          "Armenia",
          "Kuwait",
          "Azerbaijan",
          "Bahrain",
          "Bosnia and Herzegovina",
          "Kazakhstan",
          "Cameroon",
          "Tunisia",
          "North Macedonia",
          "Bulgaria",
          "Slovakia",
          "Latvia",
          "Lebanon",
          "Andorra",
          "Uzbekistan",
          "Cyprus",
          "Costa Rica",
          "Uruguay",
          "Afghanistan",
          "Oman",
          "Albania",
          "Cuba",
          "Burkina Faso",
          "Réunion",
          "Jordan",
          "Côte d'Ivoire",
          "Honduras",
          "Malta",
          "Ghana",
          "San Marino",
          "Niger",
          "Kyrgyzstan",
          "Mauritius",
          "Nigeria",
          "Montenegro",
          "Senegal",
          "Bangladesh",
          "Georgia",
          "Sri Lanka",
          "Faroe Islands",
          "Kenya",
          "Mayotte",
          "Jersey",
          "Guernsey",
          "Isle of Man",
          "Martinique",
          "Guinea",
          "Guadeloupe",
          "Cambodia",
          "Paraguay",
          "Gibraltar",
          "Rwanda",
          "Trinidad and Tobago",
          "El Salvador",
          "Djibouti",
          "Madagascar",
          "Guatemala",
          "Monaco",
          "Liechtenstein",
          "Aruba",
          "French Guiana",
          "Togo",
          "Barbados",
          "Jamaica",
          "Mali",
          "Ethiopia",
          "Uganda",
          "French Polynesia",
          "Cayman Islands",
          "Macao",
          "Bermuda",
          "Zambia",
          "Guinea-Bissau",
          "Guyana",
          "Eritrea",
          "Gabon",
          "Benin",
          "Haiti",
          "Libya",
          "Antigua and Barbuda",
          "Maldives",
          "New Caledonia",
          "Angola",
          "Equatorial Guinea",
          "Namibia",
          "Fiji",
          "Mongolia",
          "Dominica",
          "Saint Lucia",
          "Curaçao",
          "Liberia",
          "Grenada",
          "Sudan",
          "Greenland",
          "Saint Kitts and Nevis",
          "Seychelles",
          "Zimbabwe",
          "Chad",
          "Eswatini",
          "Mozambique",
          "Suriname",
          "Nepal",
          "Åland Islands",
          "Central African Republic",
          "Malawi",
          "Montserrat",
          "Somalia",
          "Turks and Caicos Islands",
          "Belize",
          "Sierra Leone",
          "Botswana",
          "Mauritania",
          "Nicaragua",
          "Saint Barthélemy",
          "Bhutan",
          "Anguilla",
          "Burundi",
          "Papua New Guinea",
          "South Sudan",
          "Saint Pierre and Miquelon",
          "Timor-Leste"
         ],
         "locations": [
          "CAN",
          "USA",
          "ESP",
          "ITA",
          "DEU",
          "CHN",
          "FRA",
          "TUR",
          "BEL",
          "CHE",
          "NLD",
          "BRA",
          "AUT",
          "PRT",
          "ISR",
          "RUS",
          "SWE",
          "NOR",
          "AUS",
          "IRL",
          "DNK",
          "IND",
          "CHL",
          "CZE",
          "POL",
          "ROU",
          "JPN",
          "PAK",
          "MYS",
          "ECU",
          "PHL",
          "LUX",
          "IDN",
          "PER",
          "SAU",
          "MEX",
          "ARE",
          "FIN",
          "SRB",
          "THA",
          "PAN",
          "QAT",
          "DOM",
          "GRC",
          "COL",
          "ZAF",
          "ARG",
          "UKR",
          "SGP",
          "ISL",
          "DZA",
          "EGY",
          "HRV",
          "MAR",
          "EST",
          "SVN",
          "BLR",
          "IRQ",
          "NZL",
          "HKG",
          "LTU",
          "HUN",
          "ARM",
          "KWT",
          "AZE",
          "BHR",
          "BIH",
          "KAZ",
          "CMR",
          "TUN",
          "MKD",
          "BGR",
          "SVK",
          "LVA",
          "LBN",
          "AND",
          "UZB",
          "CYP",
          "CRI",
          "URY",
          "AFG",
          "OMN",
          "ALB",
          "CUB",
          "BFA",
          "REU",
          "JOR",
          "CIV",
          "HND",
          "MLT",
          "GHA",
          "SMR",
          "NER",
          "KGZ",
          "MUS",
          "NGA",
          "MNE",
          "SEN",
          "BGD",
          "GEO",
          "LKA",
          "FRO",
          "KEN",
          "MYT",
          "JEY",
          "GGY",
          "IMN",
          "MTQ",
          "GIN",
          "GLP",
          "KHM",
          "PRY",
          "GIB",
          "RWA",
          "TTO",
          "SLV",
          "DJI",
          "MDG",
          "GTM",
          "MCO",
          "LIE",
          "ABW",
          "GUF",
          "TGO",
          "BRB",
          "JAM",
          "MLI",
          "ETH",
          "UGA",
          "PYF",
          "CYM",
          "MAC",
          "BMU",
          "ZMB",
          "GNB",
          "GUY",
          "ERI",
          "GAB",
          "BEN",
          "HTI",
          "LBY",
          "ATG",
          "MDV",
          "NCL",
          "AGO",
          "GNQ",
          "NAM",
          "FJI",
          "MNG",
          "DMA",
          "LCA",
          "CUW",
          "LBR",
          "GRD",
          "SDN",
          "GRL",
          "KNA",
          "SYC",
          "ZWE",
          "TCD",
          "SWZ",
          "MOZ",
          "SUR",
          "NPL",
          "ALA",
          "CAF",
          "MWI",
          "MSR",
          "SOM",
          "TCA",
          "BLZ",
          "SLE",
          "BWA",
          "MRT",
          "NIC",
          "BLM",
          "BTN",
          "AIA",
          "BDI",
          "PNG",
          "SSD",
          "SPM",
          "TLS"
         ],
         "name": "",
         "type": "choropleth",
         "z": [
          18465,
          402823,
          146690,
          135586,
          109702,
          81802,
          78167,
          34109,
          23403,
          22488,
          20549,
          14049,
          12852,
          12442,
          9404,
          8672,
          8522,
          6042,
          6015,
          5709,
          5386,
          5274,
          5116,
          5033,
          5000,
          4761,
          4257,
          4183,
          4119,
          3995,
          3870,
          2970,
          2956,
          2954,
          2932,
          2785,
          2659,
          2487,
          2447,
          2369,
          2249,
          2210,
          1956,
          1832,
          1780,
          1749,
          1715,
          1668,
          1623,
          1586,
          1468,
          1450,
          1343,
          1242,
          1185,
          1091,
          1066,
          1031,
          969,
          961,
          912,
          895,
          881,
          855,
          822,
          821,
          794,
          709,
          685,
          623,
          617,
          593,
          581,
          577,
          575,
          564,
          545,
          484,
          483,
          424,
          423,
          419,
          400,
          396,
          384,
          358,
          353,
          349,
          312,
          299,
          287,
          279,
          278,
          270,
          268,
          254,
          248,
          237,
          218,
          208,
          186,
          184,
          179,
          171,
          170,
          166,
          158,
          152,
          144,
          139,
          117,
          115,
          113,
          105,
          105,
          93,
          90,
          88,
          87,
          79,
          77,
          74,
          72,
          65,
          63,
          63,
          56,
          52,
          52,
          47,
          45,
          44,
          39,
          39,
          33,
          33,
          31,
          30,
          26,
          25,
          20,
          19,
          19,
          18,
          17,
          16,
          16,
          15,
          15,
          14,
          14,
          13,
          13,
          12,
          12,
          11,
          11,
          11,
          11,
          10,
          10,
          10,
          10,
          9,
          9,
          8,
          8,
          8,
          8,
          8,
          7,
          7,
          6,
          6,
          6,
          6,
          5,
          3,
          3,
          2,
          2,
          1,
          1
         ]
        }
       ],
       "layout": {
        "coloraxis": {
         "colorbar": {
          "title": {
           "text": "Confirmed Cases"
          }
         },
         "colorscale": [
          [
           0,
           "rgb(209, 238, 234)"
          ],
          [
           0.16666666666666666,
           "rgb(168, 219, 217)"
          ],
          [
           0.3333333333333333,
           "rgb(133, 196, 201)"
          ],
          [
           0.5,
           "rgb(104, 171, 184)"
          ],
          [
           0.6666666666666666,
           "rgb(79, 144, 166)"
          ],
          [
           0.8333333333333334,
           "rgb(59, 115, 143)"
          ],
          [
           1,
           "rgb(42, 86, 116)"
          ]
         ]
        },
        "font": {
         "color": "#7f7f7f",
         "family": "Courier New, monospace",
         "size": 18
        },
        "geo": {
         "center": {},
         "domain": {
          "x": [
           0,
           1
          ],
          "y": [
           0,
           1
          ]
         }
        },
        "legend": {
         "tracegroupgap": 0
        },
        "margin": {
         "t": 60
        },
        "template": {
         "data": {
          "bar": [
           {
            "error_x": {
             "color": "#2a3f5f"
            },
            "error_y": {
             "color": "#2a3f5f"
            },
            "marker": {
             "line": {
              "color": "#E5ECF6",
              "width": 0.5
             }
            },
            "type": "bar"
           }
          ],
          "barpolar": [
           {
            "marker": {
             "line": {
              "color": "#E5ECF6",
              "width": 0.5
             }
            },
            "type": "barpolar"
           }
          ],
          "carpet": [
           {
            "aaxis": {
             "endlinecolor": "#2a3f5f",
             "gridcolor": "white",
             "linecolor": "white",
             "minorgridcolor": "white",
             "startlinecolor": "#2a3f5f"
            },
            "baxis": {
             "endlinecolor": "#2a3f5f",
             "gridcolor": "white",
             "linecolor": "white",
             "minorgridcolor": "white",
             "startlinecolor": "#2a3f5f"
            },
            "type": "carpet"
           }
          ],
          "choropleth": [
           {
            "colorbar": {
             "outlinewidth": 0,
             "ticks": ""
            },
            "type": "choropleth"
           }
          ],
          "contour": [
           {
            "colorbar": {
             "outlinewidth": 0,
             "ticks": ""
            },
            "colorscale": [
             [
              0,
              "#0d0887"
             ],
             [
              0.1111111111111111,
              "#46039f"
             ],
             [
              0.2222222222222222,
              "#7201a8"
             ],
             [
              0.3333333333333333,
              "#9c179e"
             ],
             [
              0.4444444444444444,
              "#bd3786"
             ],
             [
              0.5555555555555556,
              "#d8576b"
             ],
             [
              0.6666666666666666,
              "#ed7953"
             ],
             [
              0.7777777777777778,
              "#fb9f3a"
             ],
             [
              0.8888888888888888,
              "#fdca26"
             ],
             [
              1,
              "#f0f921"
             ]
            ],
            "type": "contour"
           }
          ],
          "contourcarpet": [
           {
            "colorbar": {
             "outlinewidth": 0,
             "ticks": ""
            },
            "type": "contourcarpet"
           }
          ],
          "heatmap": [
           {
            "colorbar": {
             "outlinewidth": 0,
             "ticks": ""
            },
            "colorscale": [
             [
              0,
              "#0d0887"
             ],
             [
              0.1111111111111111,
              "#46039f"
             ],
             [
              0.2222222222222222,
              "#7201a8"
             ],
             [
              0.3333333333333333,
              "#9c179e"
             ],
             [
              0.4444444444444444,
              "#bd3786"
             ],
             [
              0.5555555555555556,
              "#d8576b"
             ],
             [
              0.6666666666666666,
              "#ed7953"
             ],
             [
              0.7777777777777778,
              "#fb9f3a"
             ],
             [
              0.8888888888888888,
              "#fdca26"
             ],
             [
              1,
              "#f0f921"
             ]
            ],
            "type": "heatmap"
           }
          ],
          "heatmapgl": [
           {
            "colorbar": {
             "outlinewidth": 0,
             "ticks": ""
            },
            "colorscale": [
             [
              0,
              "#0d0887"
             ],
             [
              0.1111111111111111,
              "#46039f"
             ],
             [
              0.2222222222222222,
              "#7201a8"
             ],
             [
              0.3333333333333333,
              "#9c179e"
             ],
             [
              0.4444444444444444,
              "#bd3786"
             ],
             [
              0.5555555555555556,
              "#d8576b"
             ],
             [
              0.6666666666666666,
              "#ed7953"
             ],
             [
              0.7777777777777778,
              "#fb9f3a"
             ],
             [
              0.8888888888888888,
              "#fdca26"
             ],
             [
              1,
              "#f0f921"
             ]
            ],
            "type": "heatmapgl"
           }
          ],
          "histogram": [
           {
            "marker": {
             "colorbar": {
              "outlinewidth": 0,
              "ticks": ""
             }
            },
            "type": "histogram"
           }
          ],
          "histogram2d": [
           {
            "colorbar": {
             "outlinewidth": 0,
             "ticks": ""
            },
            "colorscale": [
             [
              0,
              "#0d0887"
             ],
             [
              0.1111111111111111,
              "#46039f"
             ],
             [
              0.2222222222222222,
              "#7201a8"
             ],
             [
              0.3333333333333333,
              "#9c179e"
             ],
             [
              0.4444444444444444,
              "#bd3786"
             ],
             [
              0.5555555555555556,
              "#d8576b"
             ],
             [
              0.6666666666666666,
              "#ed7953"
             ],
             [
              0.7777777777777778,
              "#fb9f3a"
             ],
             [
              0.8888888888888888,
              "#fdca26"
             ],
             [
              1,
              "#f0f921"
             ]
            ],
            "type": "histogram2d"
           }
          ],
          "histogram2dcontour": [
           {
            "colorbar": {
             "outlinewidth": 0,
             "ticks": ""
            },
            "colorscale": [
             [
              0,
              "#0d0887"
             ],
             [
              0.1111111111111111,
              "#46039f"
             ],
             [
              0.2222222222222222,
              "#7201a8"
             ],
             [
              0.3333333333333333,
              "#9c179e"
             ],
             [
              0.4444444444444444,
              "#bd3786"
             ],
             [
              0.5555555555555556,
              "#d8576b"
             ],
             [
              0.6666666666666666,
              "#ed7953"
             ],
             [
              0.7777777777777778,
              "#fb9f3a"
             ],
             [
              0.8888888888888888,
              "#fdca26"
             ],
             [
              1,
              "#f0f921"
             ]
            ],
            "type": "histogram2dcontour"
           }
          ],
          "mesh3d": [
           {
            "colorbar": {
             "outlinewidth": 0,
             "ticks": ""
            },
            "type": "mesh3d"
           }
          ],
          "parcoords": [
           {
            "line": {
             "colorbar": {
              "outlinewidth": 0,
              "ticks": ""
             }
            },
            "type": "parcoords"
           }
          ],
          "pie": [
           {
            "automargin": true,
            "type": "pie"
           }
          ],
          "scatter": [
           {
            "marker": {
             "colorbar": {
              "outlinewidth": 0,
              "ticks": ""
             }
            },
            "type": "scatter"
           }
          ],
          "scatter3d": [
           {
            "line": {
             "colorbar": {
              "outlinewidth": 0,
              "ticks": ""
             }
            },
            "marker": {
             "colorbar": {
              "outlinewidth": 0,
              "ticks": ""
             }
            },
            "type": "scatter3d"
           }
          ],
          "scattercarpet": [
           {
            "marker": {
             "colorbar": {
              "outlinewidth": 0,
              "ticks": ""
             }
            },
            "type": "scattercarpet"
           }
          ],
          "scattergeo": [
           {
            "marker": {
             "colorbar": {
              "outlinewidth": 0,
              "ticks": ""
             }
            },
            "type": "scattergeo"
           }
          ],
          "scattergl": [
           {
            "marker": {
             "colorbar": {
              "outlinewidth": 0,
              "ticks": ""
             }
            },
            "type": "scattergl"
           }
          ],
          "scattermapbox": [
           {
            "marker": {
             "colorbar": {
              "outlinewidth": 0,
              "ticks": ""
             }
            },
            "type": "scattermapbox"
           }
          ],
          "scatterpolar": [
           {
            "marker": {
             "colorbar": {
              "outlinewidth": 0,
              "ticks": ""
             }
            },
            "type": "scatterpolar"
           }
          ],
          "scatterpolargl": [
           {
            "marker": {
             "colorbar": {
              "outlinewidth": 0,
              "ticks": ""
             }
            },
            "type": "scatterpolargl"
           }
          ],
          "scatterternary": [
           {
            "marker": {
             "colorbar": {
              "outlinewidth": 0,
              "ticks": ""
             }
            },
            "type": "scatterternary"
           }
          ],
          "surface": [
           {
            "colorbar": {
             "outlinewidth": 0,
             "ticks": ""
            },
            "colorscale": [
             [
              0,
              "#0d0887"
             ],
             [
              0.1111111111111111,
              "#46039f"
             ],
             [
              0.2222222222222222,
              "#7201a8"
             ],
             [
              0.3333333333333333,
              "#9c179e"
             ],
             [
              0.4444444444444444,
              "#bd3786"
             ],
             [
              0.5555555555555556,
              "#d8576b"
             ],
             [
              0.6666666666666666,
              "#ed7953"
             ],
             [
              0.7777777777777778,
              "#fb9f3a"
             ],
             [
              0.8888888888888888,
              "#fdca26"
             ],
             [
              1,
              "#f0f921"
             ]
            ],
            "type": "surface"
           }
          ],
          "table": [
           {
            "cells": {
             "fill": {
              "color": "#EBF0F8"
             },
             "line": {
              "color": "white"
             }
            },
            "header": {
             "fill": {
              "color": "#C8D4E3"
             },
             "line": {
              "color": "white"
             }
            },
            "type": "table"
           }
          ]
         },
         "layout": {
          "annotationdefaults": {
           "arrowcolor": "#2a3f5f",
           "arrowhead": 0,
           "arrowwidth": 1
          },
          "coloraxis": {
           "colorbar": {
            "outlinewidth": 0,
            "ticks": ""
           }
          },
          "colorscale": {
           "diverging": [
            [
             0,
             "#8e0152"
            ],
            [
             0.1,
             "#c51b7d"
            ],
            [
             0.2,
             "#de77ae"
            ],
            [
             0.3,
             "#f1b6da"
            ],
            [
             0.4,
             "#fde0ef"
            ],
            [
             0.5,
             "#f7f7f7"
            ],
            [
             0.6,
             "#e6f5d0"
            ],
            [
             0.7,
             "#b8e186"
            ],
            [
             0.8,
             "#7fbc41"
            ],
            [
             0.9,
             "#4d9221"
            ],
            [
             1,
             "#276419"
            ]
           ],
           "sequential": [
            [
             0,
             "#0d0887"
            ],
            [
             0.1111111111111111,
             "#46039f"
            ],
            [
             0.2222222222222222,
             "#7201a8"
            ],
            [
             0.3333333333333333,
             "#9c179e"
            ],
            [
             0.4444444444444444,
             "#bd3786"
            ],
            [
             0.5555555555555556,
             "#d8576b"
            ],
            [
             0.6666666666666666,
             "#ed7953"
            ],
            [
             0.7777777777777778,
             "#fb9f3a"
            ],
            [
             0.8888888888888888,
             "#fdca26"
            ],
            [
             1,
             "#f0f921"
            ]
           ],
           "sequentialminus": [
            [
             0,
             "#0d0887"
            ],
            [
             0.1111111111111111,
             "#46039f"
            ],
            [
             0.2222222222222222,
             "#7201a8"
            ],
            [
             0.3333333333333333,
             "#9c179e"
            ],
            [
             0.4444444444444444,
             "#bd3786"
            ],
            [
             0.5555555555555556,
             "#d8576b"
            ],
            [
             0.6666666666666666,
             "#ed7953"
            ],
            [
             0.7777777777777778,
             "#fb9f3a"
            ],
            [
             0.8888888888888888,
             "#fdca26"
            ],
            [
             1,
             "#f0f921"
            ]
           ]
          },
          "colorway": [
           "#636efa",
           "#EF553B",
           "#00cc96",
           "#ab63fa",
           "#FFA15A",
           "#19d3f3",
           "#FF6692",
           "#B6E880",
           "#FF97FF",
           "#FECB52"
          ],
          "font": {
           "color": "#2a3f5f"
          },
          "geo": {
           "bgcolor": "white",
           "lakecolor": "white",
           "landcolor": "#E5ECF6",
           "showlakes": true,
           "showland": true,
           "subunitcolor": "white"
          },
          "hoverlabel": {
           "align": "left"
          },
          "hovermode": "closest",
          "mapbox": {
           "style": "light"
          },
          "paper_bgcolor": "white",
          "plot_bgcolor": "#E5ECF6",
          "polar": {
           "angularaxis": {
            "gridcolor": "white",
            "linecolor": "white",
            "ticks": ""
           },
           "bgcolor": "#E5ECF6",
           "radialaxis": {
            "gridcolor": "white",
            "linecolor": "white",
            "ticks": ""
           }
          },
          "scene": {
           "xaxis": {
            "backgroundcolor": "#E5ECF6",
            "gridcolor": "white",
            "gridwidth": 2,
            "linecolor": "white",
            "showbackground": true,
            "ticks": "",
            "zerolinecolor": "white"
           },
           "yaxis": {
            "backgroundcolor": "#E5ECF6",
            "gridcolor": "white",
            "gridwidth": 2,
            "linecolor": "white",
            "showbackground": true,
            "ticks": "",
            "zerolinecolor": "white"
           },
           "zaxis": {
            "backgroundcolor": "#E5ECF6",
            "gridcolor": "white",
            "gridwidth": 2,
            "linecolor": "white",
            "showbackground": true,
            "ticks": "",
            "zerolinecolor": "white"
           }
          },
          "shapedefaults": {
           "line": {
            "color": "#2a3f5f"
           }
          },
          "ternary": {
           "aaxis": {
            "gridcolor": "white",
            "linecolor": "white",
            "ticks": ""
           },
           "baxis": {
            "gridcolor": "white",
            "linecolor": "white",
            "ticks": ""
           },
           "bgcolor": "#E5ECF6",
           "caxis": {
            "gridcolor": "white",
            "linecolor": "white",
            "ticks": ""
           }
          },
          "title": {
           "x": 0.05
          },
          "xaxis": {
           "automargin": true,
           "gridcolor": "white",
           "linecolor": "white",
           "ticks": "",
           "title": {
            "standoff": 15
           },
           "zerolinecolor": "white",
           "zerolinewidth": 2
          },
          "yaxis": {
           "automargin": true,
           "gridcolor": "white",
           "linecolor": "white",
           "ticks": "",
           "title": {
            "standoff": 15
           },
           "zerolinecolor": "white",
           "zerolinewidth": 2
          }
         }
        },
        "title": {
         "text": "Confirmed Cases in the World"
        }
       }
      },
      "text/html": [
       "<div>\n",
       "        \n",
       "        \n",
       "            <div id=\"d471ee32-034f-4d17-8b5e-304ee7aeef29\" class=\"plotly-graph-div\" style=\"height:525px; width:100%;\"></div>\n",
       "            <script type=\"text/javascript\">\n",
       "                require([\"plotly\"], function(Plotly) {\n",
       "                    window.PLOTLYENV=window.PLOTLYENV || {};\n",
       "                    \n",
       "                if (document.getElementById(\"d471ee32-034f-4d17-8b5e-304ee7aeef29\")) {\n",
       "                    Plotly.newPlot(\n",
       "                        'd471ee32-034f-4d17-8b5e-304ee7aeef29',\n",
       "                        [{\"coloraxis\": \"coloraxis\", \"customdata\": [[486.19, 4333, 402], [1222.32, 22500, 12929], [3114.41, 48021, 14673], [2250.64, 24392, 17127], [1319.34, 31432, 2105], [58.35, 77279, 3333], [1165.35, 19337, 10328], [410.19, 1582, 725], [2030.73, 4681, 2240], [2618.98, 8704, 846], [1177.52, \"\\u2014\", 2248], [66.48, 127, 688], [1443.62, 4512, 273], [1210.71, 184, 345], [1024.4, 801, 72], [59.1, 580, 63], [824.7, 333, 695], [1125.65, \"\\u2014\", 93], [234.36, 2813, 50], [1160.01, 25, 210], [924.99, 1621, 218], [3.88, 411, 149], [267.75, 728, 43], [470.64, 181, 91], [130.28, 222, 136], [245.35, 528, 209], [33.8, 632, 81], [19.09, 467, 58], [125.82, 1487, 65], [228.85, 140, 220], [35.67, 96, 182], [4837.97, 310, 44], [11.07, 222, 240], [91.93, 1231, 107], [85.69, 631, 41], [22.0, 633, 141], [268.85, 239, 12], [449.93, \"\\u2014\", 40], [351.39, 118, 61], [35.63, 888, 30], [533.09, 16, 59], [804.43, 178, 6], [188.83, 36, 98], [170.82, 269, 81], [36.04, 100, 50], [29.76, 45, 13], [38.16, 266, 60], [39.83, 35, 52], [284.56, 406, 7], [4354.03, 559, 6], [34.14, 90, 193], [14.47, 276, 94], [329.47, 179, 19], [34.64, 97, 91], [892.08, 69, 24], [521.0, 102, 40], [113.24, 77, 13], [26.35, 344, 64], [194.77, 282, 1], [128.12, 264, 4], [326.48, 8, 15], [91.58, 94, 58], [297.89, 114, 9], [193.43, 111, 1], [81.65, 63, 8], [531.98, 467, 5], [240.53, 79, 34], [37.97, 53, 7], [25.8, 60, 9], [53.15, 25, 23], [297.04, 35, 30], [84.71, 42, 24], [106.48, 13, 2], [302.6, 16, 2], [84.24, 62, 19], [7273.38, 52, 23], [15.98, 30, 3], [552.57, 47, 14], [95.49, 24, 2], [120.5, 93, 5], [13.13, 18, 11], [89.82, 72, 2], [140.55, 154, 22], [35.33, 27, 11], [18.4, 127, 19], [417.83, 40, 0], [33.15, 138, 6], [13.52, 41, 3], [34.07, 6, 22], [605.8, 5, 0], [9.48, 31, 5], [8310.0, 40, 34], [12.46, 26, 11], [41.33, 25, 4], [211.69, \"\\u2014\", 7], [1.23, 44, 6], [398.48, 4, 2], [14.62, 105, 2], [1.29, 33, 12], [55.86, 48, 3], [8.53, 42, 6], [3530.04, 131, 0], [3.76, 7, 6], [747.42, 22, 2], [1591.76, \"\\u2014\", 3], [2643.65, 34, 4], [1896.44, 82, 1], [391.64, 50, 4], [11.79, 5, 0], [341.72, 31, 7], [7.65, 63, 0], [16.08, 15, 5], [3353.02, 60, 0], [8.49, 7, 0], [76.98, 1, 7], [14.34, 9, 5], [83.46, 9, 0], [3.35, 2, 0], [5.24, 17, 3], [2062.66, 3, 1], [1987.15, 0, 1], [658.9, 14, 0], [252.48, 34, 0], [8.62, 23, 3], [219.49, 6, 3], [23.11, 9, 3], [2.8, 12, 5], [0.53, 4, 2], [1.29, 0, 0], [170.34, 0, 0], [683.76, 6, 1], [64.74, 10, 0], [609.12, 21, 2], [2.18, 3, 1], [20.57, 0, 0], [42.16, 8, 5], [8.86, 0, 0], [13.81, 1, 1], [2.22, 5, 1], [2.16, \"\\u2014\", 1], [2.91, 1, 1], [196.99, 0, 1], [50.7, 13, 0], [63.78, 1, 0], [0.55, 2, 2], [11.78, 1, 0], [6.51, 2, 0], [16.95, 0, 0], [4.53, 11, 0], [194.96, 0, 0], [78.35, 0, 0], [81.93, 5, 1], [2.9, 0, 3], [107.14, 0, 0], [0.28, 2, 2], [196.14, 10, 0], [208.24, 0, 0], [112.68, 0, 0], [0.73, 0, 2], [0.62, 2, 0], [9.15, 4, 0], [0.33, 1, 0], [17.2, 3, 1], [0.3, 1, 0], [301.15, 0, 0], [1.46, 0, 0], [0.42, 0, 1], [null, 0, 0], [0.5, 1, 0], [193.38, \"\\u2014\", 1], [17.14, 0, 1], [0.89, 0, 0], [2.57, 0, 1], [1.47, 2, 1], [0.93, 2, 1], [null, 1, 0], [6.74, 2, 0], [201.76, 0, 0], [0.27, 0, 0], [0.22, 0, 0], [0.16, 0, 0], [null, 0, 0], [0.72, 0, 0]], \"geo\": \"geo\", \"hoverlabel\": {\"namelength\": 0}, \"hovertemplate\": \"<b>%{hovertext}</b><br><br>Cases per 1M people=%{customdata[0]}<br>Recovered=%{customdata[1]}<br>Deaths=%{customdata[2]}<br>Code=%{location}<br>Confirmed Cases=%{z}\", \"hovertext\": [\"Canada\", \"United States of America\", \"Spain\", \"Italy\", \"Germany\", \"China\", \"France\", \"Turkey\", \"Belgium\", \"Switzerland\", \"Netherlands\", \"Brazil\", \"Austria\", \"Portugal\", \"Israel\", \"Russian Federation\", \"Sweden\", \"Norway\", \"Australia\", \"Ireland\", \"Denmark\", \"India\", \"Chile\", \"Czechia\", \"Poland\", \"Romania\", \"Japan\", \"Pakistan\", \"Malaysia\", \"Ecuador\", \"Philippines\", \"Luxembourg\", \"Indonesia\", \"Peru\", \"Saudi Arabia\", \"Mexico\", \"United Arab Emirates\", \"Finland\", \"Serbia\", \"Thailand\", \"Panama\", \"Qatar\", \"Dominican Republic\", \"Greece\", \"Colombia\", \"South Africa\", \"Argentina\", \"Ukraine\", \"Singapore\", \"Iceland\", \"Algeria\", \"Egypt\", \"Croatia\", \"Morocco\", \"Estonia\", \"Slovenia\", \"Belarus\", \"Iraq\", \"New Zealand\", \"Hong Kong\", \"Lithuania\", \"Hungary\", \"Armenia\", \"Kuwait\", \"Azerbaijan\", \"Bahrain\", \"Bosnia and Herzegovina\", \"Kazakhstan\", \"Cameroon\", \"Tunisia\", \"North Macedonia\", \"Bulgaria\", \"Slovakia\", \"Latvia\", \"Lebanon\", \"Andorra\", \"Uzbekistan\", \"Cyprus\", \"Costa Rica\", \"Uruguay\", \"Afghanistan\", \"Oman\", \"Albania\", \"Cuba\", \"Burkina Faso\", \"R\\u00e9union\", \"Jordan\", \"C\\u00f4te d'Ivoire\", \"Honduras\", \"Malta\", \"Ghana\", \"San Marino\", \"Niger\", \"Kyrgyzstan\", \"Mauritius\", \"Nigeria\", \"Montenegro\", \"Senegal\", \"Bangladesh\", \"Georgia\", \"Sri Lanka\", \"Faroe Islands\", \"Kenya\", \"Mayotte\", \"Jersey\", \"Guernsey\", \"Isle of Man\", \"Martinique\", \"Guinea\", \"Guadeloupe\", \"Cambodia\", \"Paraguay\", \"Gibraltar\", \"Rwanda\", \"Trinidad and Tobago\", \"El Salvador\", \"Djibouti\", \"Madagascar\", \"Guatemala\", \"Monaco\", \"Liechtenstein\", \"Aruba\", \"French Guiana\", \"Togo\", \"Barbados\", \"Jamaica\", \"Mali\", \"Ethiopia\", \"Uganda\", \"French Polynesia\", \"Cayman Islands\", \"Macao\", \"Bermuda\", \"Zambia\", \"Guinea-Bissau\", \"Guyana\", \"Eritrea\", \"Gabon\", \"Benin\", \"Haiti\", \"Libya\", \"Antigua and Barbuda\", \"Maldives\", \"New Caledonia\", \"Angola\", \"Equatorial Guinea\", \"Namibia\", \"Fiji\", \"Mongolia\", \"Dominica\", \"Saint Lucia\", \"Cura\\u00e7ao\", \"Liberia\", \"Grenada\", \"Sudan\", \"Greenland\", \"Saint Kitts and Nevis\", \"Seychelles\", \"Zimbabwe\", \"Chad\", \"Eswatini\", \"Mozambique\", \"Suriname\", \"Nepal\", \"\\u00c5land Islands\", \"Central African Republic\", \"Malawi\", \"Montserrat\", \"Somalia\", \"Turks and Caicos Islands\", \"Belize\", \"Sierra Leone\", \"Botswana\", \"Mauritania\", \"Nicaragua\", \"Saint Barth\\u00e9lemy\", \"Bhutan\", \"Anguilla\", \"Burundi\", \"Papua New Guinea\", \"South Sudan\", \"Saint Pierre and Miquelon\", \"Timor-Leste\"], \"locations\": [\"CAN\", \"USA\", \"ESP\", \"ITA\", \"DEU\", \"CHN\", \"FRA\", \"TUR\", \"BEL\", \"CHE\", \"NLD\", \"BRA\", \"AUT\", \"PRT\", \"ISR\", \"RUS\", \"SWE\", \"NOR\", \"AUS\", \"IRL\", \"DNK\", \"IND\", \"CHL\", \"CZE\", \"POL\", \"ROU\", \"JPN\", \"PAK\", \"MYS\", \"ECU\", \"PHL\", \"LUX\", \"IDN\", \"PER\", \"SAU\", \"MEX\", \"ARE\", \"FIN\", \"SRB\", \"THA\", \"PAN\", \"QAT\", \"DOM\", \"GRC\", \"COL\", \"ZAF\", \"ARG\", \"UKR\", \"SGP\", \"ISL\", \"DZA\", \"EGY\", \"HRV\", \"MAR\", \"EST\", \"SVN\", \"BLR\", \"IRQ\", \"NZL\", \"HKG\", \"LTU\", \"HUN\", \"ARM\", \"KWT\", \"AZE\", \"BHR\", \"BIH\", \"KAZ\", \"CMR\", \"TUN\", \"MKD\", \"BGR\", \"SVK\", \"LVA\", \"LBN\", \"AND\", \"UZB\", \"CYP\", \"CRI\", \"URY\", \"AFG\", \"OMN\", \"ALB\", \"CUB\", \"BFA\", \"REU\", \"JOR\", \"CIV\", \"HND\", \"MLT\", \"GHA\", \"SMR\", \"NER\", \"KGZ\", \"MUS\", \"NGA\", \"MNE\", \"SEN\", \"BGD\", \"GEO\", \"LKA\", \"FRO\", \"KEN\", \"MYT\", \"JEY\", \"GGY\", \"IMN\", \"MTQ\", \"GIN\", \"GLP\", \"KHM\", \"PRY\", \"GIB\", \"RWA\", \"TTO\", \"SLV\", \"DJI\", \"MDG\", \"GTM\", \"MCO\", \"LIE\", \"ABW\", \"GUF\", \"TGO\", \"BRB\", \"JAM\", \"MLI\", \"ETH\", \"UGA\", \"PYF\", \"CYM\", \"MAC\", \"BMU\", \"ZMB\", \"GNB\", \"GUY\", \"ERI\", \"GAB\", \"BEN\", \"HTI\", \"LBY\", \"ATG\", \"MDV\", \"NCL\", \"AGO\", \"GNQ\", \"NAM\", \"FJI\", \"MNG\", \"DMA\", \"LCA\", \"CUW\", \"LBR\", \"GRD\", \"SDN\", \"GRL\", \"KNA\", \"SYC\", \"ZWE\", \"TCD\", \"SWZ\", \"MOZ\", \"SUR\", \"NPL\", \"ALA\", \"CAF\", \"MWI\", \"MSR\", \"SOM\", \"TCA\", \"BLZ\", \"SLE\", \"BWA\", \"MRT\", \"NIC\", \"BLM\", \"BTN\", \"AIA\", \"BDI\", \"PNG\", \"SSD\", \"SPM\", \"TLS\"], \"name\": \"\", \"type\": \"choropleth\", \"z\": [18465, 402823, 146690, 135586, 109702, 81802, 78167, 34109, 23403, 22488, 20549, 14049, 12852, 12442, 9404, 8672, 8522, 6042, 6015, 5709, 5386, 5274, 5116, 5033, 5000, 4761, 4257, 4183, 4119, 3995, 3870, 2970, 2956, 2954, 2932, 2785, 2659, 2487, 2447, 2369, 2249, 2210, 1956, 1832, 1780, 1749, 1715, 1668, 1623, 1586, 1468, 1450, 1343, 1242, 1185, 1091, 1066, 1031, 969, 961, 912, 895, 881, 855, 822, 821, 794, 709, 685, 623, 617, 593, 581, 577, 575, 564, 545, 484, 483, 424, 423, 419, 400, 396, 384, 358, 353, 349, 312, 299, 287, 279, 278, 270, 268, 254, 248, 237, 218, 208, 186, 184, 179, 171, 170, 166, 158, 152, 144, 139, 117, 115, 113, 105, 105, 93, 90, 88, 87, 79, 77, 74, 72, 65, 63, 63, 56, 52, 52, 47, 45, 44, 39, 39, 33, 33, 31, 30, 26, 25, 20, 19, 19, 18, 17, 16, 16, 15, 15, 14, 14, 13, 13, 12, 12, 11, 11, 11, 11, 10, 10, 10, 10, 9, 9, 8, 8, 8, 8, 8, 7, 7, 6, 6, 6, 6, 5, 3, 3, 2, 2, 1, 1]}],\n",
       "                        {\"coloraxis\": {\"colorbar\": {\"title\": {\"text\": \"Confirmed Cases\"}}, \"colorscale\": [[0.0, \"rgb(209, 238, 234)\"], [0.16666666666666666, \"rgb(168, 219, 217)\"], [0.3333333333333333, \"rgb(133, 196, 201)\"], [0.5, \"rgb(104, 171, 184)\"], [0.6666666666666666, \"rgb(79, 144, 166)\"], [0.8333333333333334, \"rgb(59, 115, 143)\"], [1.0, \"rgb(42, 86, 116)\"]]}, \"font\": {\"color\": \"#7f7f7f\", \"family\": \"Courier New, monospace\", \"size\": 18}, \"geo\": {\"center\": {}, \"domain\": {\"x\": [0.0, 1.0], \"y\": [0.0, 1.0]}}, \"legend\": {\"tracegroupgap\": 0}, \"margin\": {\"t\": 60}, \"template\": {\"data\": {\"bar\": [{\"error_x\": {\"color\": \"#2a3f5f\"}, \"error_y\": {\"color\": \"#2a3f5f\"}, \"marker\": {\"line\": {\"color\": \"#E5ECF6\", \"width\": 0.5}}, \"type\": \"bar\"}], \"barpolar\": [{\"marker\": {\"line\": {\"color\": \"#E5ECF6\", \"width\": 0.5}}, \"type\": \"barpolar\"}], \"carpet\": [{\"aaxis\": {\"endlinecolor\": \"#2a3f5f\", \"gridcolor\": \"white\", \"linecolor\": \"white\", \"minorgridcolor\": \"white\", \"startlinecolor\": \"#2a3f5f\"}, \"baxis\": {\"endlinecolor\": \"#2a3f5f\", \"gridcolor\": \"white\", \"linecolor\": \"white\", \"minorgridcolor\": \"white\", \"startlinecolor\": \"#2a3f5f\"}, \"type\": \"carpet\"}], \"choropleth\": [{\"colorbar\": {\"outlinewidth\": 0, \"ticks\": \"\"}, \"type\": \"choropleth\"}], \"contour\": [{\"colorbar\": {\"outlinewidth\": 0, \"ticks\": \"\"}, \"colorscale\": [[0.0, \"#0d0887\"], [0.1111111111111111, \"#46039f\"], [0.2222222222222222, \"#7201a8\"], [0.3333333333333333, \"#9c179e\"], [0.4444444444444444, \"#bd3786\"], [0.5555555555555556, \"#d8576b\"], [0.6666666666666666, \"#ed7953\"], [0.7777777777777778, \"#fb9f3a\"], [0.8888888888888888, \"#fdca26\"], [1.0, \"#f0f921\"]], \"type\": \"contour\"}], \"contourcarpet\": [{\"colorbar\": {\"outlinewidth\": 0, \"ticks\": \"\"}, \"type\": \"contourcarpet\"}], \"heatmap\": [{\"colorbar\": {\"outlinewidth\": 0, \"ticks\": \"\"}, \"colorscale\": [[0.0, \"#0d0887\"], [0.1111111111111111, \"#46039f\"], [0.2222222222222222, \"#7201a8\"], [0.3333333333333333, \"#9c179e\"], [0.4444444444444444, \"#bd3786\"], [0.5555555555555556, \"#d8576b\"], [0.6666666666666666, \"#ed7953\"], [0.7777777777777778, \"#fb9f3a\"], [0.8888888888888888, \"#fdca26\"], [1.0, \"#f0f921\"]], \"type\": \"heatmap\"}], \"heatmapgl\": [{\"colorbar\": {\"outlinewidth\": 0, \"ticks\": \"\"}, \"colorscale\": [[0.0, \"#0d0887\"], [0.1111111111111111, \"#46039f\"], [0.2222222222222222, \"#7201a8\"], [0.3333333333333333, \"#9c179e\"], [0.4444444444444444, \"#bd3786\"], [0.5555555555555556, \"#d8576b\"], [0.6666666666666666, \"#ed7953\"], [0.7777777777777778, \"#fb9f3a\"], [0.8888888888888888, \"#fdca26\"], [1.0, \"#f0f921\"]], \"type\": \"heatmapgl\"}], \"histogram\": [{\"marker\": {\"colorbar\": {\"outlinewidth\": 0, \"ticks\": \"\"}}, \"type\": \"histogram\"}], \"histogram2d\": [{\"colorbar\": {\"outlinewidth\": 0, \"ticks\": \"\"}, \"colorscale\": [[0.0, \"#0d0887\"], [0.1111111111111111, \"#46039f\"], [0.2222222222222222, \"#7201a8\"], [0.3333333333333333, \"#9c179e\"], [0.4444444444444444, \"#bd3786\"], [0.5555555555555556, \"#d8576b\"], [0.6666666666666666, \"#ed7953\"], [0.7777777777777778, \"#fb9f3a\"], [0.8888888888888888, \"#fdca26\"], [1.0, \"#f0f921\"]], \"type\": \"histogram2d\"}], \"histogram2dcontour\": [{\"colorbar\": {\"outlinewidth\": 0, \"ticks\": \"\"}, \"colorscale\": [[0.0, \"#0d0887\"], [0.1111111111111111, \"#46039f\"], [0.2222222222222222, \"#7201a8\"], [0.3333333333333333, \"#9c179e\"], [0.4444444444444444, \"#bd3786\"], [0.5555555555555556, \"#d8576b\"], [0.6666666666666666, \"#ed7953\"], [0.7777777777777778, \"#fb9f3a\"], [0.8888888888888888, \"#fdca26\"], [1.0, \"#f0f921\"]], \"type\": \"histogram2dcontour\"}], \"mesh3d\": [{\"colorbar\": {\"outlinewidth\": 0, \"ticks\": \"\"}, \"type\": \"mesh3d\"}], \"parcoords\": [{\"line\": {\"colorbar\": {\"outlinewidth\": 0, \"ticks\": \"\"}}, \"type\": \"parcoords\"}], \"pie\": [{\"automargin\": true, \"type\": \"pie\"}], \"scatter\": [{\"marker\": {\"colorbar\": {\"outlinewidth\": 0, \"ticks\": \"\"}}, \"type\": \"scatter\"}], \"scatter3d\": [{\"line\": {\"colorbar\": {\"outlinewidth\": 0, \"ticks\": \"\"}}, \"marker\": {\"colorbar\": {\"outlinewidth\": 0, \"ticks\": \"\"}}, \"type\": \"scatter3d\"}], \"scattercarpet\": [{\"marker\": {\"colorbar\": {\"outlinewidth\": 0, \"ticks\": \"\"}}, \"type\": \"scattercarpet\"}], \"scattergeo\": [{\"marker\": {\"colorbar\": {\"outlinewidth\": 0, \"ticks\": \"\"}}, \"type\": \"scattergeo\"}], \"scattergl\": [{\"marker\": {\"colorbar\": {\"outlinewidth\": 0, \"ticks\": \"\"}}, \"type\": \"scattergl\"}], \"scattermapbox\": [{\"marker\": {\"colorbar\": {\"outlinewidth\": 0, \"ticks\": \"\"}}, \"type\": \"scattermapbox\"}], \"scatterpolar\": [{\"marker\": {\"colorbar\": {\"outlinewidth\": 0, \"ticks\": \"\"}}, \"type\": \"scatterpolar\"}], \"scatterpolargl\": [{\"marker\": {\"colorbar\": {\"outlinewidth\": 0, \"ticks\": \"\"}}, \"type\": \"scatterpolargl\"}], \"scatterternary\": [{\"marker\": {\"colorbar\": {\"outlinewidth\": 0, \"ticks\": \"\"}}, \"type\": \"scatterternary\"}], \"surface\": [{\"colorbar\": {\"outlinewidth\": 0, \"ticks\": \"\"}, \"colorscale\": [[0.0, \"#0d0887\"], [0.1111111111111111, \"#46039f\"], [0.2222222222222222, \"#7201a8\"], [0.3333333333333333, \"#9c179e\"], [0.4444444444444444, \"#bd3786\"], [0.5555555555555556, \"#d8576b\"], [0.6666666666666666, \"#ed7953\"], [0.7777777777777778, \"#fb9f3a\"], [0.8888888888888888, \"#fdca26\"], [1.0, \"#f0f921\"]], \"type\": \"surface\"}], \"table\": [{\"cells\": {\"fill\": {\"color\": \"#EBF0F8\"}, \"line\": {\"color\": \"white\"}}, \"header\": {\"fill\": {\"color\": \"#C8D4E3\"}, \"line\": {\"color\": \"white\"}}, \"type\": \"table\"}]}, \"layout\": {\"annotationdefaults\": {\"arrowcolor\": \"#2a3f5f\", \"arrowhead\": 0, \"arrowwidth\": 1}, \"coloraxis\": {\"colorbar\": {\"outlinewidth\": 0, \"ticks\": \"\"}}, \"colorscale\": {\"diverging\": [[0, \"#8e0152\"], [0.1, \"#c51b7d\"], [0.2, \"#de77ae\"], [0.3, \"#f1b6da\"], [0.4, \"#fde0ef\"], [0.5, \"#f7f7f7\"], [0.6, \"#e6f5d0\"], [0.7, \"#b8e186\"], [0.8, \"#7fbc41\"], [0.9, \"#4d9221\"], [1, \"#276419\"]], \"sequential\": [[0.0, \"#0d0887\"], [0.1111111111111111, \"#46039f\"], [0.2222222222222222, \"#7201a8\"], [0.3333333333333333, \"#9c179e\"], [0.4444444444444444, \"#bd3786\"], [0.5555555555555556, \"#d8576b\"], [0.6666666666666666, \"#ed7953\"], [0.7777777777777778, \"#fb9f3a\"], [0.8888888888888888, \"#fdca26\"], [1.0, \"#f0f921\"]], \"sequentialminus\": [[0.0, \"#0d0887\"], [0.1111111111111111, \"#46039f\"], [0.2222222222222222, \"#7201a8\"], [0.3333333333333333, \"#9c179e\"], [0.4444444444444444, \"#bd3786\"], [0.5555555555555556, \"#d8576b\"], [0.6666666666666666, \"#ed7953\"], [0.7777777777777778, \"#fb9f3a\"], [0.8888888888888888, \"#fdca26\"], [1.0, \"#f0f921\"]]}, \"colorway\": [\"#636efa\", \"#EF553B\", \"#00cc96\", \"#ab63fa\", \"#FFA15A\", \"#19d3f3\", \"#FF6692\", \"#B6E880\", \"#FF97FF\", \"#FECB52\"], \"font\": {\"color\": \"#2a3f5f\"}, \"geo\": {\"bgcolor\": \"white\", \"lakecolor\": \"white\", \"landcolor\": \"#E5ECF6\", \"showlakes\": true, \"showland\": true, \"subunitcolor\": \"white\"}, \"hoverlabel\": {\"align\": \"left\"}, \"hovermode\": \"closest\", \"mapbox\": {\"style\": \"light\"}, \"paper_bgcolor\": \"white\", \"plot_bgcolor\": \"#E5ECF6\", \"polar\": {\"angularaxis\": {\"gridcolor\": \"white\", \"linecolor\": \"white\", \"ticks\": \"\"}, \"bgcolor\": \"#E5ECF6\", \"radialaxis\": {\"gridcolor\": \"white\", \"linecolor\": \"white\", \"ticks\": \"\"}}, \"scene\": {\"xaxis\": {\"backgroundcolor\": \"#E5ECF6\", \"gridcolor\": \"white\", \"gridwidth\": 2, \"linecolor\": \"white\", \"showbackground\": true, \"ticks\": \"\", \"zerolinecolor\": \"white\"}, \"yaxis\": {\"backgroundcolor\": \"#E5ECF6\", \"gridcolor\": \"white\", \"gridwidth\": 2, \"linecolor\": \"white\", \"showbackground\": true, \"ticks\": \"\", \"zerolinecolor\": \"white\"}, \"zaxis\": {\"backgroundcolor\": \"#E5ECF6\", \"gridcolor\": \"white\", \"gridwidth\": 2, \"linecolor\": \"white\", \"showbackground\": true, \"ticks\": \"\", \"zerolinecolor\": \"white\"}}, \"shapedefaults\": {\"line\": {\"color\": \"#2a3f5f\"}}, \"ternary\": {\"aaxis\": {\"gridcolor\": \"white\", \"linecolor\": \"white\", \"ticks\": \"\"}, \"baxis\": {\"gridcolor\": \"white\", \"linecolor\": \"white\", \"ticks\": \"\"}, \"bgcolor\": \"#E5ECF6\", \"caxis\": {\"gridcolor\": \"white\", \"linecolor\": \"white\", \"ticks\": \"\"}}, \"title\": {\"x\": 0.05}, \"xaxis\": {\"automargin\": true, \"gridcolor\": \"white\", \"linecolor\": \"white\", \"ticks\": \"\", \"title\": {\"standoff\": 15}, \"zerolinecolor\": \"white\", \"zerolinewidth\": 2}, \"yaxis\": {\"automargin\": true, \"gridcolor\": \"white\", \"linecolor\": \"white\", \"ticks\": \"\", \"title\": {\"standoff\": 15}, \"zerolinecolor\": \"white\", \"zerolinewidth\": 2}}}, \"title\": {\"text\": \"Confirmed Cases in the World\"}},\n",
       "                        {\"responsive\": true}\n",
       "                    ).then(function(){\n",
       "                            \n",
       "var gd = document.getElementById('d471ee32-034f-4d17-8b5e-304ee7aeef29');\n",
       "var x = new MutationObserver(function (mutations, observer) {{\n",
       "        var display = window.getComputedStyle(gd).display;\n",
       "        if (!display || display === 'none') {{\n",
       "            console.log([gd, 'removed!']);\n",
       "            Plotly.purge(gd);\n",
       "            observer.disconnect();\n",
       "        }}\n",
       "}});\n",
       "\n",
       "// Listen for the removal of the full notebook cells\n",
       "var notebookContainer = gd.closest('#notebook-container');\n",
       "if (notebookContainer) {{\n",
       "    x.observe(notebookContainer, {childList: true});\n",
       "}}\n",
       "\n",
       "// Listen for the clearing of the current output cell\n",
       "var outputEl = gd.closest('.output');\n",
       "if (outputEl) {{\n",
       "    x.observe(outputEl, {childList: true});\n",
       "}}\n",
       "\n",
       "                        })\n",
       "                };\n",
       "                });\n",
       "            </script>\n",
       "        </div>"
      ]
     },
     "metadata": {},
     "output_type": "display_data"
    }
   ],
   "source": [
    "import plotly.express as px\n",
    "\n",
    "\n",
    "fig = px.choropleth(dfW, locations=\"Code\",\n",
    "                    color='Confirmed', # lifeExp is a column of gapminder\n",
    "                    hover_name='Location',\n",
    "                    hover_data=['Cases per 1M people','Recovered','Deaths'],# column to add to hover information\n",
    "                    color_continuous_scale=px.colors.sequential.Teal,\n",
    "                    \n",
    "                    labels={'Confirmed':'Confirmed Cases'})\n",
    "\n",
    "\n",
    "fig.update_layout(\n",
    "    title=\"Confirmed Cases in the World\",\n",
    "    font=dict(\n",
    "        family=\"Courier New, monospace\",\n",
    "        size=18,\n",
    "        color=\"#7f7f7f\"\n",
    "    )\n",
    ")\n",
    "fig.show()\n",
    "\n"
   ]
  },
  {
   "cell_type": "code",
   "execution_count": 357,
   "metadata": {},
   "outputs": [
    {
     "data": {
      "application/vnd.plotly.v1+json": {
       "config": {
        "plotlyServerURL": "https://plot.ly"
       },
       "data": [
        {
         "coloraxis": "coloraxis",
         "customdata": [
          [
           18465,
           4333,
           402
          ],
          [
           402823,
           22500,
           12929
          ],
          [
           146690,
           48021,
           14673
          ],
          [
           135586,
           24392,
           17127
          ],
          [
           109702,
           31432,
           2105
          ],
          [
           81802,
           77279,
           3333
          ],
          [
           78167,
           19337,
           10328
          ],
          [
           34109,
           1582,
           725
          ],
          [
           23403,
           4681,
           2240
          ],
          [
           22488,
           8704,
           846
          ],
          [
           20549,
           "—",
           2248
          ],
          [
           14049,
           127,
           688
          ],
          [
           12852,
           4512,
           273
          ],
          [
           12442,
           184,
           345
          ],
          [
           9404,
           801,
           72
          ],
          [
           8672,
           580,
           63
          ],
          [
           8522,
           333,
           695
          ],
          [
           6042,
           "—",
           93
          ],
          [
           6015,
           2813,
           50
          ],
          [
           5709,
           25,
           210
          ],
          [
           5386,
           1621,
           218
          ],
          [
           5274,
           411,
           149
          ],
          [
           5116,
           728,
           43
          ],
          [
           5033,
           181,
           91
          ],
          [
           5000,
           222,
           136
          ],
          [
           4761,
           528,
           209
          ],
          [
           4257,
           632,
           81
          ],
          [
           4183,
           467,
           58
          ],
          [
           4119,
           1487,
           65
          ],
          [
           3995,
           140,
           220
          ],
          [
           3870,
           96,
           182
          ],
          [
           2970,
           310,
           44
          ],
          [
           2956,
           222,
           240
          ],
          [
           2954,
           1231,
           107
          ],
          [
           2932,
           631,
           41
          ],
          [
           2785,
           633,
           141
          ],
          [
           2659,
           239,
           12
          ],
          [
           2487,
           "—",
           40
          ],
          [
           2447,
           118,
           61
          ],
          [
           2369,
           888,
           30
          ],
          [
           2249,
           16,
           59
          ],
          [
           2210,
           178,
           6
          ],
          [
           1956,
           36,
           98
          ],
          [
           1832,
           269,
           81
          ],
          [
           1780,
           100,
           50
          ],
          [
           1749,
           45,
           13
          ],
          [
           1715,
           266,
           60
          ],
          [
           1668,
           35,
           52
          ],
          [
           1623,
           406,
           7
          ],
          [
           1586,
           559,
           6
          ],
          [
           1468,
           90,
           193
          ],
          [
           1450,
           276,
           94
          ],
          [
           1343,
           179,
           19
          ],
          [
           1242,
           97,
           91
          ],
          [
           1185,
           69,
           24
          ],
          [
           1091,
           102,
           40
          ],
          [
           1066,
           77,
           13
          ],
          [
           1031,
           344,
           64
          ],
          [
           969,
           282,
           1
          ],
          [
           961,
           264,
           4
          ],
          [
           912,
           8,
           15
          ],
          [
           895,
           94,
           58
          ],
          [
           881,
           114,
           9
          ],
          [
           855,
           111,
           1
          ],
          [
           822,
           63,
           8
          ],
          [
           821,
           467,
           5
          ],
          [
           794,
           79,
           34
          ],
          [
           709,
           53,
           7
          ],
          [
           685,
           60,
           9
          ],
          [
           623,
           25,
           23
          ],
          [
           617,
           35,
           30
          ],
          [
           593,
           42,
           24
          ],
          [
           581,
           13,
           2
          ],
          [
           577,
           16,
           2
          ],
          [
           575,
           62,
           19
          ],
          [
           564,
           52,
           23
          ],
          [
           545,
           30,
           3
          ],
          [
           484,
           47,
           14
          ],
          [
           483,
           24,
           2
          ],
          [
           424,
           93,
           5
          ],
          [
           423,
           18,
           11
          ],
          [
           419,
           72,
           2
          ],
          [
           400,
           154,
           22
          ],
          [
           396,
           27,
           11
          ],
          [
           384,
           127,
           19
          ],
          [
           358,
           40,
           0
          ],
          [
           353,
           138,
           6
          ],
          [
           349,
           41,
           3
          ],
          [
           312,
           6,
           22
          ],
          [
           299,
           5,
           0
          ],
          [
           287,
           31,
           5
          ],
          [
           279,
           40,
           34
          ],
          [
           278,
           26,
           11
          ],
          [
           270,
           25,
           4
          ],
          [
           268,
           "—",
           7
          ],
          [
           254,
           44,
           6
          ],
          [
           248,
           4,
           2
          ],
          [
           237,
           105,
           2
          ],
          [
           218,
           33,
           12
          ],
          [
           208,
           48,
           3
          ],
          [
           186,
           42,
           6
          ],
          [
           184,
           131,
           0
          ],
          [
           179,
           7,
           6
          ],
          [
           171,
           22,
           2
          ],
          [
           170,
           "—",
           3
          ],
          [
           166,
           34,
           4
          ],
          [
           158,
           82,
           1
          ],
          [
           152,
           50,
           4
          ],
          [
           144,
           5,
           0
          ],
          [
           139,
           31,
           7
          ],
          [
           117,
           63,
           0
          ],
          [
           115,
           15,
           5
          ],
          [
           113,
           60,
           0
          ],
          [
           105,
           7,
           0
          ],
          [
           105,
           1,
           7
          ],
          [
           93,
           9,
           5
          ],
          [
           90,
           9,
           0
          ],
          [
           88,
           2,
           0
          ],
          [
           87,
           17,
           3
          ],
          [
           79,
           3,
           1
          ],
          [
           77,
           0,
           1
          ],
          [
           74,
           14,
           0
          ],
          [
           72,
           34,
           0
          ],
          [
           65,
           23,
           3
          ],
          [
           63,
           6,
           3
          ],
          [
           63,
           9,
           3
          ],
          [
           56,
           12,
           5
          ],
          [
           52,
           4,
           2
          ],
          [
           52,
           0,
           0
          ],
          [
           47,
           0,
           0
          ],
          [
           45,
           6,
           1
          ],
          [
           44,
           10,
           0
          ],
          [
           39,
           21,
           2
          ],
          [
           39,
           3,
           1
          ],
          [
           33,
           0,
           0
          ],
          [
           33,
           8,
           5
          ],
          [
           31,
           0,
           0
          ],
          [
           30,
           1,
           1
          ],
          [
           26,
           5,
           1
          ],
          [
           25,
           "—",
           1
          ],
          [
           20,
           1,
           1
          ],
          [
           19,
           0,
           1
          ],
          [
           19,
           13,
           0
          ],
          [
           18,
           1,
           0
          ],
          [
           17,
           2,
           2
          ],
          [
           16,
           1,
           0
          ],
          [
           16,
           2,
           0
          ],
          [
           15,
           0,
           0
          ],
          [
           15,
           11,
           0
          ],
          [
           14,
           0,
           0
          ],
          [
           14,
           0,
           0
          ],
          [
           13,
           5,
           1
          ],
          [
           13,
           0,
           3
          ],
          [
           12,
           0,
           0
          ],
          [
           12,
           2,
           2
          ],
          [
           11,
           10,
           0
          ],
          [
           11,
           0,
           0
          ],
          [
           11,
           0,
           0
          ],
          [
           11,
           0,
           2
          ],
          [
           10,
           2,
           0
          ],
          [
           10,
           4,
           0
          ],
          [
           10,
           1,
           0
          ],
          [
           10,
           3,
           1
          ],
          [
           9,
           1,
           0
          ],
          [
           9,
           0,
           0
          ],
          [
           8,
           0,
           0
          ],
          [
           8,
           0,
           1
          ],
          [
           8,
           0,
           0
          ],
          [
           8,
           1,
           0
          ],
          [
           8,
           "—",
           1
          ],
          [
           7,
           0,
           1
          ],
          [
           7,
           0,
           0
          ],
          [
           6,
           0,
           1
          ],
          [
           6,
           2,
           1
          ],
          [
           6,
           2,
           1
          ],
          [
           6,
           1,
           0
          ],
          [
           5,
           2,
           0
          ],
          [
           3,
           0,
           0
          ],
          [
           3,
           0,
           0
          ],
          [
           2,
           0,
           0
          ],
          [
           2,
           0,
           0
          ],
          [
           1,
           0,
           0
          ],
          [
           1,
           0,
           0
          ]
         ],
         "geo": "geo",
         "hoverlabel": {
          "namelength": 0
         },
         "hovertemplate": "<b>%{hovertext}</b><br><br>Confirmed=%{customdata[0]}<br>Recovered=%{customdata[1]}<br>Deaths=%{customdata[2]}<br>Code=%{location}<br>Cases per 1M people=%{z}",
         "hovertext": [
          "Canada",
          "United States of America",
          "Spain",
          "Italy",
          "Germany",
          "China",
          "France",
          "Turkey",
          "Belgium",
          "Switzerland",
          "Netherlands",
          "Brazil",
          "Austria",
          "Portugal",
          "Israel",
          "Russian Federation",
          "Sweden",
          "Norway",
          "Australia",
          "Ireland",
          "Denmark",
          "India",
          "Chile",
          "Czechia",
          "Poland",
          "Romania",
          "Japan",
          "Pakistan",
          "Malaysia",
          "Ecuador",
          "Philippines",
          "Luxembourg",
          "Indonesia",
          "Peru",
          "Saudi Arabia",
          "Mexico",
          "United Arab Emirates",
          "Finland",
          "Serbia",
          "Thailand",
          "Panama",
          "Qatar",
          "Dominican Republic",
          "Greece",
          "Colombia",
          "South Africa",
          "Argentina",
          "Ukraine",
          "Singapore",
          "Iceland",
          "Algeria",
          "Egypt",
          "Croatia",
          "Morocco",
          "Estonia",
          "Slovenia",
          "Belarus",
          "Iraq",
          "New Zealand",
          "Hong Kong",
          "Lithuania",
          "Hungary",
          "Armenia",
          "Kuwait",
          "Azerbaijan",
          "Bahrain",
          "Bosnia and Herzegovina",
          "Kazakhstan",
          "Cameroon",
          "Tunisia",
          "North Macedonia",
          "Bulgaria",
          "Slovakia",
          "Latvia",
          "Lebanon",
          "Andorra",
          "Uzbekistan",
          "Cyprus",
          "Costa Rica",
          "Uruguay",
          "Afghanistan",
          "Oman",
          "Albania",
          "Cuba",
          "Burkina Faso",
          "Réunion",
          "Jordan",
          "Côte d'Ivoire",
          "Honduras",
          "Malta",
          "Ghana",
          "San Marino",
          "Niger",
          "Kyrgyzstan",
          "Mauritius",
          "Nigeria",
          "Montenegro",
          "Senegal",
          "Bangladesh",
          "Georgia",
          "Sri Lanka",
          "Faroe Islands",
          "Kenya",
          "Mayotte",
          "Jersey",
          "Guernsey",
          "Isle of Man",
          "Martinique",
          "Guinea",
          "Guadeloupe",
          "Cambodia",
          "Paraguay",
          "Gibraltar",
          "Rwanda",
          "Trinidad and Tobago",
          "El Salvador",
          "Djibouti",
          "Madagascar",
          "Guatemala",
          "Monaco",
          "Liechtenstein",
          "Aruba",
          "French Guiana",
          "Togo",
          "Barbados",
          "Jamaica",
          "Mali",
          "Ethiopia",
          "Uganda",
          "French Polynesia",
          "Cayman Islands",
          "Macao",
          "Bermuda",
          "Zambia",
          "Guinea-Bissau",
          "Guyana",
          "Eritrea",
          "Gabon",
          "Benin",
          "Haiti",
          "Libya",
          "Antigua and Barbuda",
          "Maldives",
          "New Caledonia",
          "Angola",
          "Equatorial Guinea",
          "Namibia",
          "Fiji",
          "Mongolia",
          "Dominica",
          "Saint Lucia",
          "Curaçao",
          "Liberia",
          "Grenada",
          "Sudan",
          "Greenland",
          "Saint Kitts and Nevis",
          "Seychelles",
          "Zimbabwe",
          "Chad",
          "Eswatini",
          "Mozambique",
          "Suriname",
          "Nepal",
          "Åland Islands",
          "Central African Republic",
          "Malawi",
          "Montserrat",
          "Somalia",
          "Turks and Caicos Islands",
          "Belize",
          "Sierra Leone",
          "Botswana",
          "Mauritania",
          "Nicaragua",
          "Saint Barthélemy",
          "Bhutan",
          "Anguilla",
          "Burundi",
          "Papua New Guinea",
          "South Sudan",
          "Saint Pierre and Miquelon",
          "Timor-Leste"
         ],
         "locations": [
          "CAN",
          "USA",
          "ESP",
          "ITA",
          "DEU",
          "CHN",
          "FRA",
          "TUR",
          "BEL",
          "CHE",
          "NLD",
          "BRA",
          "AUT",
          "PRT",
          "ISR",
          "RUS",
          "SWE",
          "NOR",
          "AUS",
          "IRL",
          "DNK",
          "IND",
          "CHL",
          "CZE",
          "POL",
          "ROU",
          "JPN",
          "PAK",
          "MYS",
          "ECU",
          "PHL",
          "LUX",
          "IDN",
          "PER",
          "SAU",
          "MEX",
          "ARE",
          "FIN",
          "SRB",
          "THA",
          "PAN",
          "QAT",
          "DOM",
          "GRC",
          "COL",
          "ZAF",
          "ARG",
          "UKR",
          "SGP",
          "ISL",
          "DZA",
          "EGY",
          "HRV",
          "MAR",
          "EST",
          "SVN",
          "BLR",
          "IRQ",
          "NZL",
          "HKG",
          "LTU",
          "HUN",
          "ARM",
          "KWT",
          "AZE",
          "BHR",
          "BIH",
          "KAZ",
          "CMR",
          "TUN",
          "MKD",
          "BGR",
          "SVK",
          "LVA",
          "LBN",
          "AND",
          "UZB",
          "CYP",
          "CRI",
          "URY",
          "AFG",
          "OMN",
          "ALB",
          "CUB",
          "BFA",
          "REU",
          "JOR",
          "CIV",
          "HND",
          "MLT",
          "GHA",
          "SMR",
          "NER",
          "KGZ",
          "MUS",
          "NGA",
          "MNE",
          "SEN",
          "BGD",
          "GEO",
          "LKA",
          "FRO",
          "KEN",
          "MYT",
          "JEY",
          "GGY",
          "IMN",
          "MTQ",
          "GIN",
          "GLP",
          "KHM",
          "PRY",
          "GIB",
          "RWA",
          "TTO",
          "SLV",
          "DJI",
          "MDG",
          "GTM",
          "MCO",
          "LIE",
          "ABW",
          "GUF",
          "TGO",
          "BRB",
          "JAM",
          "MLI",
          "ETH",
          "UGA",
          "PYF",
          "CYM",
          "MAC",
          "BMU",
          "ZMB",
          "GNB",
          "GUY",
          "ERI",
          "GAB",
          "BEN",
          "HTI",
          "LBY",
          "ATG",
          "MDV",
          "NCL",
          "AGO",
          "GNQ",
          "NAM",
          "FJI",
          "MNG",
          "DMA",
          "LCA",
          "CUW",
          "LBR",
          "GRD",
          "SDN",
          "GRL",
          "KNA",
          "SYC",
          "ZWE",
          "TCD",
          "SWZ",
          "MOZ",
          "SUR",
          "NPL",
          "ALA",
          "CAF",
          "MWI",
          "MSR",
          "SOM",
          "TCA",
          "BLZ",
          "SLE",
          "BWA",
          "MRT",
          "NIC",
          "BLM",
          "BTN",
          "AIA",
          "BDI",
          "PNG",
          "SSD",
          "SPM",
          "TLS"
         ],
         "name": "",
         "type": "choropleth",
         "z": [
          486.19,
          1222.32,
          3114.41,
          2250.64,
          1319.34,
          58.35,
          1165.35,
          410.19,
          2030.73,
          2618.98,
          1177.52,
          66.48,
          1443.62,
          1210.71,
          1024.4,
          59.1,
          824.7,
          1125.65,
          234.36,
          1160.01,
          924.99,
          3.88,
          267.75,
          470.64,
          130.28,
          245.35,
          33.8,
          19.09,
          125.82,
          228.85,
          35.67,
          4837.97,
          11.07,
          91.93,
          85.69,
          22,
          268.85,
          449.93,
          351.39,
          35.63,
          533.09,
          804.43,
          188.83,
          170.82,
          36.04,
          29.76,
          38.16,
          39.83,
          284.56,
          4354.03,
          34.14,
          14.47,
          329.47,
          34.64,
          892.08,
          521,
          113.24,
          26.35,
          194.77,
          128.12,
          326.48,
          91.58,
          297.89,
          193.43,
          81.65,
          531.98,
          240.53,
          37.97,
          25.8,
          53.15,
          297.04,
          84.71,
          106.48,
          302.6,
          84.24,
          7273.38,
          15.98,
          552.57,
          95.49,
          120.5,
          13.13,
          89.82,
          140.55,
          35.33,
          18.4,
          417.83,
          33.15,
          13.52,
          34.07,
          605.8,
          9.48,
          8310,
          12.46,
          41.33,
          211.69,
          1.23,
          398.48,
          14.62,
          1.29,
          55.86,
          8.53,
          3530.04,
          3.76,
          747.42,
          1591.76,
          2643.65,
          1896.44,
          391.64,
          11.79,
          341.72,
          7.65,
          16.08,
          3353.02,
          8.49,
          76.98,
          14.34,
          83.46,
          3.35,
          5.24,
          2062.66,
          1987.15,
          658.9,
          252.48,
          8.62,
          219.49,
          23.11,
          2.8,
          0.53,
          1.29,
          170.34,
          683.76,
          64.74,
          609.12,
          2.18,
          20.57,
          42.16,
          8.86,
          13.81,
          2.22,
          2.16,
          2.91,
          196.99,
          50.7,
          63.78,
          0.55,
          11.78,
          6.51,
          16.95,
          4.53,
          194.96,
          78.35,
          81.93,
          2.9,
          107.14,
          0.28,
          196.14,
          208.24,
          112.68,
          0.73,
          0.62,
          9.15,
          0.33,
          17.2,
          0.3,
          301.15,
          1.46,
          0.42,
          null,
          0.5,
          193.38,
          17.14,
          0.89,
          2.57,
          1.47,
          0.93,
          null,
          6.74,
          201.76,
          0.27,
          0.22,
          0.16,
          null,
          0.72
         ]
        }
       ],
       "layout": {
        "coloraxis": {
         "colorbar": {
          "title": {
           "text": "Cases per 1M people"
          }
         },
         "colorscale": [
          [
           0,
           "rgb(243, 224, 247)"
          ],
          [
           0.16666666666666666,
           "rgb(228, 199, 241)"
          ],
          [
           0.3333333333333333,
           "rgb(209, 175, 232)"
          ],
          [
           0.5,
           "rgb(185, 152, 221)"
          ],
          [
           0.6666666666666666,
           "rgb(159, 130, 206)"
          ],
          [
           0.8333333333333334,
           "rgb(130, 109, 186)"
          ],
          [
           1,
           "rgb(99, 88, 159)"
          ]
         ]
        },
        "font": {
         "color": "#7f7f7f",
         "family": "Courier New, monospace",
         "size": 18
        },
        "geo": {
         "center": {},
         "domain": {
          "x": [
           0,
           1
          ],
          "y": [
           0,
           1
          ]
         }
        },
        "legend": {
         "tracegroupgap": 0
        },
        "margin": {
         "t": 60
        },
        "template": {
         "data": {
          "bar": [
           {
            "error_x": {
             "color": "#2a3f5f"
            },
            "error_y": {
             "color": "#2a3f5f"
            },
            "marker": {
             "line": {
              "color": "#E5ECF6",
              "width": 0.5
             }
            },
            "type": "bar"
           }
          ],
          "barpolar": [
           {
            "marker": {
             "line": {
              "color": "#E5ECF6",
              "width": 0.5
             }
            },
            "type": "barpolar"
           }
          ],
          "carpet": [
           {
            "aaxis": {
             "endlinecolor": "#2a3f5f",
             "gridcolor": "white",
             "linecolor": "white",
             "minorgridcolor": "white",
             "startlinecolor": "#2a3f5f"
            },
            "baxis": {
             "endlinecolor": "#2a3f5f",
             "gridcolor": "white",
             "linecolor": "white",
             "minorgridcolor": "white",
             "startlinecolor": "#2a3f5f"
            },
            "type": "carpet"
           }
          ],
          "choropleth": [
           {
            "colorbar": {
             "outlinewidth": 0,
             "ticks": ""
            },
            "type": "choropleth"
           }
          ],
          "contour": [
           {
            "colorbar": {
             "outlinewidth": 0,
             "ticks": ""
            },
            "colorscale": [
             [
              0,
              "#0d0887"
             ],
             [
              0.1111111111111111,
              "#46039f"
             ],
             [
              0.2222222222222222,
              "#7201a8"
             ],
             [
              0.3333333333333333,
              "#9c179e"
             ],
             [
              0.4444444444444444,
              "#bd3786"
             ],
             [
              0.5555555555555556,
              "#d8576b"
             ],
             [
              0.6666666666666666,
              "#ed7953"
             ],
             [
              0.7777777777777778,
              "#fb9f3a"
             ],
             [
              0.8888888888888888,
              "#fdca26"
             ],
             [
              1,
              "#f0f921"
             ]
            ],
            "type": "contour"
           }
          ],
          "contourcarpet": [
           {
            "colorbar": {
             "outlinewidth": 0,
             "ticks": ""
            },
            "type": "contourcarpet"
           }
          ],
          "heatmap": [
           {
            "colorbar": {
             "outlinewidth": 0,
             "ticks": ""
            },
            "colorscale": [
             [
              0,
              "#0d0887"
             ],
             [
              0.1111111111111111,
              "#46039f"
             ],
             [
              0.2222222222222222,
              "#7201a8"
             ],
             [
              0.3333333333333333,
              "#9c179e"
             ],
             [
              0.4444444444444444,
              "#bd3786"
             ],
             [
              0.5555555555555556,
              "#d8576b"
             ],
             [
              0.6666666666666666,
              "#ed7953"
             ],
             [
              0.7777777777777778,
              "#fb9f3a"
             ],
             [
              0.8888888888888888,
              "#fdca26"
             ],
             [
              1,
              "#f0f921"
             ]
            ],
            "type": "heatmap"
           }
          ],
          "heatmapgl": [
           {
            "colorbar": {
             "outlinewidth": 0,
             "ticks": ""
            },
            "colorscale": [
             [
              0,
              "#0d0887"
             ],
             [
              0.1111111111111111,
              "#46039f"
             ],
             [
              0.2222222222222222,
              "#7201a8"
             ],
             [
              0.3333333333333333,
              "#9c179e"
             ],
             [
              0.4444444444444444,
              "#bd3786"
             ],
             [
              0.5555555555555556,
              "#d8576b"
             ],
             [
              0.6666666666666666,
              "#ed7953"
             ],
             [
              0.7777777777777778,
              "#fb9f3a"
             ],
             [
              0.8888888888888888,
              "#fdca26"
             ],
             [
              1,
              "#f0f921"
             ]
            ],
            "type": "heatmapgl"
           }
          ],
          "histogram": [
           {
            "marker": {
             "colorbar": {
              "outlinewidth": 0,
              "ticks": ""
             }
            },
            "type": "histogram"
           }
          ],
          "histogram2d": [
           {
            "colorbar": {
             "outlinewidth": 0,
             "ticks": ""
            },
            "colorscale": [
             [
              0,
              "#0d0887"
             ],
             [
              0.1111111111111111,
              "#46039f"
             ],
             [
              0.2222222222222222,
              "#7201a8"
             ],
             [
              0.3333333333333333,
              "#9c179e"
             ],
             [
              0.4444444444444444,
              "#bd3786"
             ],
             [
              0.5555555555555556,
              "#d8576b"
             ],
             [
              0.6666666666666666,
              "#ed7953"
             ],
             [
              0.7777777777777778,
              "#fb9f3a"
             ],
             [
              0.8888888888888888,
              "#fdca26"
             ],
             [
              1,
              "#f0f921"
             ]
            ],
            "type": "histogram2d"
           }
          ],
          "histogram2dcontour": [
           {
            "colorbar": {
             "outlinewidth": 0,
             "ticks": ""
            },
            "colorscale": [
             [
              0,
              "#0d0887"
             ],
             [
              0.1111111111111111,
              "#46039f"
             ],
             [
              0.2222222222222222,
              "#7201a8"
             ],
             [
              0.3333333333333333,
              "#9c179e"
             ],
             [
              0.4444444444444444,
              "#bd3786"
             ],
             [
              0.5555555555555556,
              "#d8576b"
             ],
             [
              0.6666666666666666,
              "#ed7953"
             ],
             [
              0.7777777777777778,
              "#fb9f3a"
             ],
             [
              0.8888888888888888,
              "#fdca26"
             ],
             [
              1,
              "#f0f921"
             ]
            ],
            "type": "histogram2dcontour"
           }
          ],
          "mesh3d": [
           {
            "colorbar": {
             "outlinewidth": 0,
             "ticks": ""
            },
            "type": "mesh3d"
           }
          ],
          "parcoords": [
           {
            "line": {
             "colorbar": {
              "outlinewidth": 0,
              "ticks": ""
             }
            },
            "type": "parcoords"
           }
          ],
          "pie": [
           {
            "automargin": true,
            "type": "pie"
           }
          ],
          "scatter": [
           {
            "marker": {
             "colorbar": {
              "outlinewidth": 0,
              "ticks": ""
             }
            },
            "type": "scatter"
           }
          ],
          "scatter3d": [
           {
            "line": {
             "colorbar": {
              "outlinewidth": 0,
              "ticks": ""
             }
            },
            "marker": {
             "colorbar": {
              "outlinewidth": 0,
              "ticks": ""
             }
            },
            "type": "scatter3d"
           }
          ],
          "scattercarpet": [
           {
            "marker": {
             "colorbar": {
              "outlinewidth": 0,
              "ticks": ""
             }
            },
            "type": "scattercarpet"
           }
          ],
          "scattergeo": [
           {
            "marker": {
             "colorbar": {
              "outlinewidth": 0,
              "ticks": ""
             }
            },
            "type": "scattergeo"
           }
          ],
          "scattergl": [
           {
            "marker": {
             "colorbar": {
              "outlinewidth": 0,
              "ticks": ""
             }
            },
            "type": "scattergl"
           }
          ],
          "scattermapbox": [
           {
            "marker": {
             "colorbar": {
              "outlinewidth": 0,
              "ticks": ""
             }
            },
            "type": "scattermapbox"
           }
          ],
          "scatterpolar": [
           {
            "marker": {
             "colorbar": {
              "outlinewidth": 0,
              "ticks": ""
             }
            },
            "type": "scatterpolar"
           }
          ],
          "scatterpolargl": [
           {
            "marker": {
             "colorbar": {
              "outlinewidth": 0,
              "ticks": ""
             }
            },
            "type": "scatterpolargl"
           }
          ],
          "scatterternary": [
           {
            "marker": {
             "colorbar": {
              "outlinewidth": 0,
              "ticks": ""
             }
            },
            "type": "scatterternary"
           }
          ],
          "surface": [
           {
            "colorbar": {
             "outlinewidth": 0,
             "ticks": ""
            },
            "colorscale": [
             [
              0,
              "#0d0887"
             ],
             [
              0.1111111111111111,
              "#46039f"
             ],
             [
              0.2222222222222222,
              "#7201a8"
             ],
             [
              0.3333333333333333,
              "#9c179e"
             ],
             [
              0.4444444444444444,
              "#bd3786"
             ],
             [
              0.5555555555555556,
              "#d8576b"
             ],
             [
              0.6666666666666666,
              "#ed7953"
             ],
             [
              0.7777777777777778,
              "#fb9f3a"
             ],
             [
              0.8888888888888888,
              "#fdca26"
             ],
             [
              1,
              "#f0f921"
             ]
            ],
            "type": "surface"
           }
          ],
          "table": [
           {
            "cells": {
             "fill": {
              "color": "#EBF0F8"
             },
             "line": {
              "color": "white"
             }
            },
            "header": {
             "fill": {
              "color": "#C8D4E3"
             },
             "line": {
              "color": "white"
             }
            },
            "type": "table"
           }
          ]
         },
         "layout": {
          "annotationdefaults": {
           "arrowcolor": "#2a3f5f",
           "arrowhead": 0,
           "arrowwidth": 1
          },
          "coloraxis": {
           "colorbar": {
            "outlinewidth": 0,
            "ticks": ""
           }
          },
          "colorscale": {
           "diverging": [
            [
             0,
             "#8e0152"
            ],
            [
             0.1,
             "#c51b7d"
            ],
            [
             0.2,
             "#de77ae"
            ],
            [
             0.3,
             "#f1b6da"
            ],
            [
             0.4,
             "#fde0ef"
            ],
            [
             0.5,
             "#f7f7f7"
            ],
            [
             0.6,
             "#e6f5d0"
            ],
            [
             0.7,
             "#b8e186"
            ],
            [
             0.8,
             "#7fbc41"
            ],
            [
             0.9,
             "#4d9221"
            ],
            [
             1,
             "#276419"
            ]
           ],
           "sequential": [
            [
             0,
             "#0d0887"
            ],
            [
             0.1111111111111111,
             "#46039f"
            ],
            [
             0.2222222222222222,
             "#7201a8"
            ],
            [
             0.3333333333333333,
             "#9c179e"
            ],
            [
             0.4444444444444444,
             "#bd3786"
            ],
            [
             0.5555555555555556,
             "#d8576b"
            ],
            [
             0.6666666666666666,
             "#ed7953"
            ],
            [
             0.7777777777777778,
             "#fb9f3a"
            ],
            [
             0.8888888888888888,
             "#fdca26"
            ],
            [
             1,
             "#f0f921"
            ]
           ],
           "sequentialminus": [
            [
             0,
             "#0d0887"
            ],
            [
             0.1111111111111111,
             "#46039f"
            ],
            [
             0.2222222222222222,
             "#7201a8"
            ],
            [
             0.3333333333333333,
             "#9c179e"
            ],
            [
             0.4444444444444444,
             "#bd3786"
            ],
            [
             0.5555555555555556,
             "#d8576b"
            ],
            [
             0.6666666666666666,
             "#ed7953"
            ],
            [
             0.7777777777777778,
             "#fb9f3a"
            ],
            [
             0.8888888888888888,
             "#fdca26"
            ],
            [
             1,
             "#f0f921"
            ]
           ]
          },
          "colorway": [
           "#636efa",
           "#EF553B",
           "#00cc96",
           "#ab63fa",
           "#FFA15A",
           "#19d3f3",
           "#FF6692",
           "#B6E880",
           "#FF97FF",
           "#FECB52"
          ],
          "font": {
           "color": "#2a3f5f"
          },
          "geo": {
           "bgcolor": "white",
           "lakecolor": "white",
           "landcolor": "#E5ECF6",
           "showlakes": true,
           "showland": true,
           "subunitcolor": "white"
          },
          "hoverlabel": {
           "align": "left"
          },
          "hovermode": "closest",
          "mapbox": {
           "style": "light"
          },
          "paper_bgcolor": "white",
          "plot_bgcolor": "#E5ECF6",
          "polar": {
           "angularaxis": {
            "gridcolor": "white",
            "linecolor": "white",
            "ticks": ""
           },
           "bgcolor": "#E5ECF6",
           "radialaxis": {
            "gridcolor": "white",
            "linecolor": "white",
            "ticks": ""
           }
          },
          "scene": {
           "xaxis": {
            "backgroundcolor": "#E5ECF6",
            "gridcolor": "white",
            "gridwidth": 2,
            "linecolor": "white",
            "showbackground": true,
            "ticks": "",
            "zerolinecolor": "white"
           },
           "yaxis": {
            "backgroundcolor": "#E5ECF6",
            "gridcolor": "white",
            "gridwidth": 2,
            "linecolor": "white",
            "showbackground": true,
            "ticks": "",
            "zerolinecolor": "white"
           },
           "zaxis": {
            "backgroundcolor": "#E5ECF6",
            "gridcolor": "white",
            "gridwidth": 2,
            "linecolor": "white",
            "showbackground": true,
            "ticks": "",
            "zerolinecolor": "white"
           }
          },
          "shapedefaults": {
           "line": {
            "color": "#2a3f5f"
           }
          },
          "ternary": {
           "aaxis": {
            "gridcolor": "white",
            "linecolor": "white",
            "ticks": ""
           },
           "baxis": {
            "gridcolor": "white",
            "linecolor": "white",
            "ticks": ""
           },
           "bgcolor": "#E5ECF6",
           "caxis": {
            "gridcolor": "white",
            "linecolor": "white",
            "ticks": ""
           }
          },
          "title": {
           "x": 0.05
          },
          "xaxis": {
           "automargin": true,
           "gridcolor": "white",
           "linecolor": "white",
           "ticks": "",
           "title": {
            "standoff": 15
           },
           "zerolinecolor": "white",
           "zerolinewidth": 2
          },
          "yaxis": {
           "automargin": true,
           "gridcolor": "white",
           "linecolor": "white",
           "ticks": "",
           "title": {
            "standoff": 15
           },
           "zerolinecolor": "white",
           "zerolinewidth": 2
          }
         }
        },
        "title": {
         "text": "Cases per 1M people"
        }
       }
      },
      "text/html": [
       "<div>\n",
       "        \n",
       "        \n",
       "            <div id=\"2375462d-e966-454d-8604-ab42d898f108\" class=\"plotly-graph-div\" style=\"height:525px; width:100%;\"></div>\n",
       "            <script type=\"text/javascript\">\n",
       "                require([\"plotly\"], function(Plotly) {\n",
       "                    window.PLOTLYENV=window.PLOTLYENV || {};\n",
       "                    \n",
       "                if (document.getElementById(\"2375462d-e966-454d-8604-ab42d898f108\")) {\n",
       "                    Plotly.newPlot(\n",
       "                        '2375462d-e966-454d-8604-ab42d898f108',\n",
       "                        [{\"coloraxis\": \"coloraxis\", \"customdata\": [[18465, 4333, 402], [402823, 22500, 12929], [146690, 48021, 14673], [135586, 24392, 17127], [109702, 31432, 2105], [81802, 77279, 3333], [78167, 19337, 10328], [34109, 1582, 725], [23403, 4681, 2240], [22488, 8704, 846], [20549, \"\\u2014\", 2248], [14049, 127, 688], [12852, 4512, 273], [12442, 184, 345], [9404, 801, 72], [8672, 580, 63], [8522, 333, 695], [6042, \"\\u2014\", 93], [6015, 2813, 50], [5709, 25, 210], [5386, 1621, 218], [5274, 411, 149], [5116, 728, 43], [5033, 181, 91], [5000, 222, 136], [4761, 528, 209], [4257, 632, 81], [4183, 467, 58], [4119, 1487, 65], [3995, 140, 220], [3870, 96, 182], [2970, 310, 44], [2956, 222, 240], [2954, 1231, 107], [2932, 631, 41], [2785, 633, 141], [2659, 239, 12], [2487, \"\\u2014\", 40], [2447, 118, 61], [2369, 888, 30], [2249, 16, 59], [2210, 178, 6], [1956, 36, 98], [1832, 269, 81], [1780, 100, 50], [1749, 45, 13], [1715, 266, 60], [1668, 35, 52], [1623, 406, 7], [1586, 559, 6], [1468, 90, 193], [1450, 276, 94], [1343, 179, 19], [1242, 97, 91], [1185, 69, 24], [1091, 102, 40], [1066, 77, 13], [1031, 344, 64], [969, 282, 1], [961, 264, 4], [912, 8, 15], [895, 94, 58], [881, 114, 9], [855, 111, 1], [822, 63, 8], [821, 467, 5], [794, 79, 34], [709, 53, 7], [685, 60, 9], [623, 25, 23], [617, 35, 30], [593, 42, 24], [581, 13, 2], [577, 16, 2], [575, 62, 19], [564, 52, 23], [545, 30, 3], [484, 47, 14], [483, 24, 2], [424, 93, 5], [423, 18, 11], [419, 72, 2], [400, 154, 22], [396, 27, 11], [384, 127, 19], [358, 40, 0], [353, 138, 6], [349, 41, 3], [312, 6, 22], [299, 5, 0], [287, 31, 5], [279, 40, 34], [278, 26, 11], [270, 25, 4], [268, \"\\u2014\", 7], [254, 44, 6], [248, 4, 2], [237, 105, 2], [218, 33, 12], [208, 48, 3], [186, 42, 6], [184, 131, 0], [179, 7, 6], [171, 22, 2], [170, \"\\u2014\", 3], [166, 34, 4], [158, 82, 1], [152, 50, 4], [144, 5, 0], [139, 31, 7], [117, 63, 0], [115, 15, 5], [113, 60, 0], [105, 7, 0], [105, 1, 7], [93, 9, 5], [90, 9, 0], [88, 2, 0], [87, 17, 3], [79, 3, 1], [77, 0, 1], [74, 14, 0], [72, 34, 0], [65, 23, 3], [63, 6, 3], [63, 9, 3], [56, 12, 5], [52, 4, 2], [52, 0, 0], [47, 0, 0], [45, 6, 1], [44, 10, 0], [39, 21, 2], [39, 3, 1], [33, 0, 0], [33, 8, 5], [31, 0, 0], [30, 1, 1], [26, 5, 1], [25, \"\\u2014\", 1], [20, 1, 1], [19, 0, 1], [19, 13, 0], [18, 1, 0], [17, 2, 2], [16, 1, 0], [16, 2, 0], [15, 0, 0], [15, 11, 0], [14, 0, 0], [14, 0, 0], [13, 5, 1], [13, 0, 3], [12, 0, 0], [12, 2, 2], [11, 10, 0], [11, 0, 0], [11, 0, 0], [11, 0, 2], [10, 2, 0], [10, 4, 0], [10, 1, 0], [10, 3, 1], [9, 1, 0], [9, 0, 0], [8, 0, 0], [8, 0, 1], [8, 0, 0], [8, 1, 0], [8, \"\\u2014\", 1], [7, 0, 1], [7, 0, 0], [6, 0, 1], [6, 2, 1], [6, 2, 1], [6, 1, 0], [5, 2, 0], [3, 0, 0], [3, 0, 0], [2, 0, 0], [2, 0, 0], [1, 0, 0], [1, 0, 0]], \"geo\": \"geo\", \"hoverlabel\": {\"namelength\": 0}, \"hovertemplate\": \"<b>%{hovertext}</b><br><br>Confirmed=%{customdata[0]}<br>Recovered=%{customdata[1]}<br>Deaths=%{customdata[2]}<br>Code=%{location}<br>Cases per 1M people=%{z}\", \"hovertext\": [\"Canada\", \"United States of America\", \"Spain\", \"Italy\", \"Germany\", \"China\", \"France\", \"Turkey\", \"Belgium\", \"Switzerland\", \"Netherlands\", \"Brazil\", \"Austria\", \"Portugal\", \"Israel\", \"Russian Federation\", \"Sweden\", \"Norway\", \"Australia\", \"Ireland\", \"Denmark\", \"India\", \"Chile\", \"Czechia\", \"Poland\", \"Romania\", \"Japan\", \"Pakistan\", \"Malaysia\", \"Ecuador\", \"Philippines\", \"Luxembourg\", \"Indonesia\", \"Peru\", \"Saudi Arabia\", \"Mexico\", \"United Arab Emirates\", \"Finland\", \"Serbia\", \"Thailand\", \"Panama\", \"Qatar\", \"Dominican Republic\", \"Greece\", \"Colombia\", \"South Africa\", \"Argentina\", \"Ukraine\", \"Singapore\", \"Iceland\", \"Algeria\", \"Egypt\", \"Croatia\", \"Morocco\", \"Estonia\", \"Slovenia\", \"Belarus\", \"Iraq\", \"New Zealand\", \"Hong Kong\", \"Lithuania\", \"Hungary\", \"Armenia\", \"Kuwait\", \"Azerbaijan\", \"Bahrain\", \"Bosnia and Herzegovina\", \"Kazakhstan\", \"Cameroon\", \"Tunisia\", \"North Macedonia\", \"Bulgaria\", \"Slovakia\", \"Latvia\", \"Lebanon\", \"Andorra\", \"Uzbekistan\", \"Cyprus\", \"Costa Rica\", \"Uruguay\", \"Afghanistan\", \"Oman\", \"Albania\", \"Cuba\", \"Burkina Faso\", \"R\\u00e9union\", \"Jordan\", \"C\\u00f4te d'Ivoire\", \"Honduras\", \"Malta\", \"Ghana\", \"San Marino\", \"Niger\", \"Kyrgyzstan\", \"Mauritius\", \"Nigeria\", \"Montenegro\", \"Senegal\", \"Bangladesh\", \"Georgia\", \"Sri Lanka\", \"Faroe Islands\", \"Kenya\", \"Mayotte\", \"Jersey\", \"Guernsey\", \"Isle of Man\", \"Martinique\", \"Guinea\", \"Guadeloupe\", \"Cambodia\", \"Paraguay\", \"Gibraltar\", \"Rwanda\", \"Trinidad and Tobago\", \"El Salvador\", \"Djibouti\", \"Madagascar\", \"Guatemala\", \"Monaco\", \"Liechtenstein\", \"Aruba\", \"French Guiana\", \"Togo\", \"Barbados\", \"Jamaica\", \"Mali\", \"Ethiopia\", \"Uganda\", \"French Polynesia\", \"Cayman Islands\", \"Macao\", \"Bermuda\", \"Zambia\", \"Guinea-Bissau\", \"Guyana\", \"Eritrea\", \"Gabon\", \"Benin\", \"Haiti\", \"Libya\", \"Antigua and Barbuda\", \"Maldives\", \"New Caledonia\", \"Angola\", \"Equatorial Guinea\", \"Namibia\", \"Fiji\", \"Mongolia\", \"Dominica\", \"Saint Lucia\", \"Cura\\u00e7ao\", \"Liberia\", \"Grenada\", \"Sudan\", \"Greenland\", \"Saint Kitts and Nevis\", \"Seychelles\", \"Zimbabwe\", \"Chad\", \"Eswatini\", \"Mozambique\", \"Suriname\", \"Nepal\", \"\\u00c5land Islands\", \"Central African Republic\", \"Malawi\", \"Montserrat\", \"Somalia\", \"Turks and Caicos Islands\", \"Belize\", \"Sierra Leone\", \"Botswana\", \"Mauritania\", \"Nicaragua\", \"Saint Barth\\u00e9lemy\", \"Bhutan\", \"Anguilla\", \"Burundi\", \"Papua New Guinea\", \"South Sudan\", \"Saint Pierre and Miquelon\", \"Timor-Leste\"], \"locations\": [\"CAN\", \"USA\", \"ESP\", \"ITA\", \"DEU\", \"CHN\", \"FRA\", \"TUR\", \"BEL\", \"CHE\", \"NLD\", \"BRA\", \"AUT\", \"PRT\", \"ISR\", \"RUS\", \"SWE\", \"NOR\", \"AUS\", \"IRL\", \"DNK\", \"IND\", \"CHL\", \"CZE\", \"POL\", \"ROU\", \"JPN\", \"PAK\", \"MYS\", \"ECU\", \"PHL\", \"LUX\", \"IDN\", \"PER\", \"SAU\", \"MEX\", \"ARE\", \"FIN\", \"SRB\", \"THA\", \"PAN\", \"QAT\", \"DOM\", \"GRC\", \"COL\", \"ZAF\", \"ARG\", \"UKR\", \"SGP\", \"ISL\", \"DZA\", \"EGY\", \"HRV\", \"MAR\", \"EST\", \"SVN\", \"BLR\", \"IRQ\", \"NZL\", \"HKG\", \"LTU\", \"HUN\", \"ARM\", \"KWT\", \"AZE\", \"BHR\", \"BIH\", \"KAZ\", \"CMR\", \"TUN\", \"MKD\", \"BGR\", \"SVK\", \"LVA\", \"LBN\", \"AND\", \"UZB\", \"CYP\", \"CRI\", \"URY\", \"AFG\", \"OMN\", \"ALB\", \"CUB\", \"BFA\", \"REU\", \"JOR\", \"CIV\", \"HND\", \"MLT\", \"GHA\", \"SMR\", \"NER\", \"KGZ\", \"MUS\", \"NGA\", \"MNE\", \"SEN\", \"BGD\", \"GEO\", \"LKA\", \"FRO\", \"KEN\", \"MYT\", \"JEY\", \"GGY\", \"IMN\", \"MTQ\", \"GIN\", \"GLP\", \"KHM\", \"PRY\", \"GIB\", \"RWA\", \"TTO\", \"SLV\", \"DJI\", \"MDG\", \"GTM\", \"MCO\", \"LIE\", \"ABW\", \"GUF\", \"TGO\", \"BRB\", \"JAM\", \"MLI\", \"ETH\", \"UGA\", \"PYF\", \"CYM\", \"MAC\", \"BMU\", \"ZMB\", \"GNB\", \"GUY\", \"ERI\", \"GAB\", \"BEN\", \"HTI\", \"LBY\", \"ATG\", \"MDV\", \"NCL\", \"AGO\", \"GNQ\", \"NAM\", \"FJI\", \"MNG\", \"DMA\", \"LCA\", \"CUW\", \"LBR\", \"GRD\", \"SDN\", \"GRL\", \"KNA\", \"SYC\", \"ZWE\", \"TCD\", \"SWZ\", \"MOZ\", \"SUR\", \"NPL\", \"ALA\", \"CAF\", \"MWI\", \"MSR\", \"SOM\", \"TCA\", \"BLZ\", \"SLE\", \"BWA\", \"MRT\", \"NIC\", \"BLM\", \"BTN\", \"AIA\", \"BDI\", \"PNG\", \"SSD\", \"SPM\", \"TLS\"], \"name\": \"\", \"type\": \"choropleth\", \"z\": [486.19, 1222.32, 3114.41, 2250.64, 1319.34, 58.35, 1165.35, 410.19, 2030.73, 2618.98, 1177.52, 66.48, 1443.62, 1210.71, 1024.4, 59.1, 824.7, 1125.65, 234.36, 1160.01, 924.99, 3.88, 267.75, 470.64, 130.28, 245.35, 33.8, 19.09, 125.82, 228.85, 35.67, 4837.97, 11.07, 91.93, 85.69, 22.0, 268.85, 449.93, 351.39, 35.63, 533.09, 804.43, 188.83, 170.82, 36.04, 29.76, 38.16, 39.83, 284.56, 4354.03, 34.14, 14.47, 329.47, 34.64, 892.08, 521.0, 113.24, 26.35, 194.77, 128.12, 326.48, 91.58, 297.89, 193.43, 81.65, 531.98, 240.53, 37.97, 25.8, 53.15, 297.04, 84.71, 106.48, 302.6, 84.24, 7273.38, 15.98, 552.57, 95.49, 120.5, 13.13, 89.82, 140.55, 35.33, 18.4, 417.83, 33.15, 13.52, 34.07, 605.8, 9.48, 8310.0, 12.46, 41.33, 211.69, 1.23, 398.48, 14.62, 1.29, 55.86, 8.53, 3530.04, 3.76, 747.42, 1591.76, 2643.65, 1896.44, 391.64, 11.79, 341.72, 7.65, 16.08, 3353.02, 8.49, 76.98, 14.34, 83.46, 3.35, 5.24, 2062.66, 1987.15, 658.9, 252.48, 8.62, 219.49, 23.11, 2.8, 0.53, 1.29, 170.34, 683.76, 64.74, 609.12, 2.18, 20.57, 42.16, 8.86, 13.81, 2.22, 2.16, 2.91, 196.99, 50.7, 63.78, 0.55, 11.78, 6.51, 16.95, 4.53, 194.96, 78.35, 81.93, 2.9, 107.14, 0.28, 196.14, 208.24, 112.68, 0.73, 0.62, 9.15, 0.33, 17.2, 0.3, 301.15, 1.46, 0.42, null, 0.5, 193.38, 17.14, 0.89, 2.57, 1.47, 0.93, null, 6.74, 201.76, 0.27, 0.22, 0.16, null, 0.72]}],\n",
       "                        {\"coloraxis\": {\"colorbar\": {\"title\": {\"text\": \"Cases per 1M people\"}}, \"colorscale\": [[0.0, \"rgb(243, 224, 247)\"], [0.16666666666666666, \"rgb(228, 199, 241)\"], [0.3333333333333333, \"rgb(209, 175, 232)\"], [0.5, \"rgb(185, 152, 221)\"], [0.6666666666666666, \"rgb(159, 130, 206)\"], [0.8333333333333334, \"rgb(130, 109, 186)\"], [1.0, \"rgb(99, 88, 159)\"]]}, \"font\": {\"color\": \"#7f7f7f\", \"family\": \"Courier New, monospace\", \"size\": 18}, \"geo\": {\"center\": {}, \"domain\": {\"x\": [0.0, 1.0], \"y\": [0.0, 1.0]}}, \"legend\": {\"tracegroupgap\": 0}, \"margin\": {\"t\": 60}, \"template\": {\"data\": {\"bar\": [{\"error_x\": {\"color\": \"#2a3f5f\"}, \"error_y\": {\"color\": \"#2a3f5f\"}, \"marker\": {\"line\": {\"color\": \"#E5ECF6\", \"width\": 0.5}}, \"type\": \"bar\"}], \"barpolar\": [{\"marker\": {\"line\": {\"color\": \"#E5ECF6\", \"width\": 0.5}}, \"type\": \"barpolar\"}], \"carpet\": [{\"aaxis\": {\"endlinecolor\": \"#2a3f5f\", \"gridcolor\": \"white\", \"linecolor\": \"white\", \"minorgridcolor\": \"white\", \"startlinecolor\": \"#2a3f5f\"}, \"baxis\": {\"endlinecolor\": \"#2a3f5f\", \"gridcolor\": \"white\", \"linecolor\": \"white\", \"minorgridcolor\": \"white\", \"startlinecolor\": \"#2a3f5f\"}, \"type\": \"carpet\"}], \"choropleth\": [{\"colorbar\": {\"outlinewidth\": 0, \"ticks\": \"\"}, \"type\": \"choropleth\"}], \"contour\": [{\"colorbar\": {\"outlinewidth\": 0, \"ticks\": \"\"}, \"colorscale\": [[0.0, \"#0d0887\"], [0.1111111111111111, \"#46039f\"], [0.2222222222222222, \"#7201a8\"], [0.3333333333333333, \"#9c179e\"], [0.4444444444444444, \"#bd3786\"], [0.5555555555555556, \"#d8576b\"], [0.6666666666666666, \"#ed7953\"], [0.7777777777777778, \"#fb9f3a\"], [0.8888888888888888, \"#fdca26\"], [1.0, \"#f0f921\"]], \"type\": \"contour\"}], \"contourcarpet\": [{\"colorbar\": {\"outlinewidth\": 0, \"ticks\": \"\"}, \"type\": \"contourcarpet\"}], \"heatmap\": [{\"colorbar\": {\"outlinewidth\": 0, \"ticks\": \"\"}, \"colorscale\": [[0.0, \"#0d0887\"], [0.1111111111111111, \"#46039f\"], [0.2222222222222222, \"#7201a8\"], [0.3333333333333333, \"#9c179e\"], [0.4444444444444444, \"#bd3786\"], [0.5555555555555556, \"#d8576b\"], [0.6666666666666666, \"#ed7953\"], [0.7777777777777778, \"#fb9f3a\"], [0.8888888888888888, \"#fdca26\"], [1.0, \"#f0f921\"]], \"type\": \"heatmap\"}], \"heatmapgl\": [{\"colorbar\": {\"outlinewidth\": 0, \"ticks\": \"\"}, \"colorscale\": [[0.0, \"#0d0887\"], [0.1111111111111111, \"#46039f\"], [0.2222222222222222, \"#7201a8\"], [0.3333333333333333, \"#9c179e\"], [0.4444444444444444, \"#bd3786\"], [0.5555555555555556, \"#d8576b\"], [0.6666666666666666, \"#ed7953\"], [0.7777777777777778, \"#fb9f3a\"], [0.8888888888888888, \"#fdca26\"], [1.0, \"#f0f921\"]], \"type\": \"heatmapgl\"}], \"histogram\": [{\"marker\": {\"colorbar\": {\"outlinewidth\": 0, \"ticks\": \"\"}}, \"type\": \"histogram\"}], \"histogram2d\": [{\"colorbar\": {\"outlinewidth\": 0, \"ticks\": \"\"}, \"colorscale\": [[0.0, \"#0d0887\"], [0.1111111111111111, \"#46039f\"], [0.2222222222222222, \"#7201a8\"], [0.3333333333333333, \"#9c179e\"], [0.4444444444444444, \"#bd3786\"], [0.5555555555555556, \"#d8576b\"], [0.6666666666666666, \"#ed7953\"], [0.7777777777777778, \"#fb9f3a\"], [0.8888888888888888, \"#fdca26\"], [1.0, \"#f0f921\"]], \"type\": \"histogram2d\"}], \"histogram2dcontour\": [{\"colorbar\": {\"outlinewidth\": 0, \"ticks\": \"\"}, \"colorscale\": [[0.0, \"#0d0887\"], [0.1111111111111111, \"#46039f\"], [0.2222222222222222, \"#7201a8\"], [0.3333333333333333, \"#9c179e\"], [0.4444444444444444, \"#bd3786\"], [0.5555555555555556, \"#d8576b\"], [0.6666666666666666, \"#ed7953\"], [0.7777777777777778, \"#fb9f3a\"], [0.8888888888888888, \"#fdca26\"], [1.0, \"#f0f921\"]], \"type\": \"histogram2dcontour\"}], \"mesh3d\": [{\"colorbar\": {\"outlinewidth\": 0, \"ticks\": \"\"}, \"type\": \"mesh3d\"}], \"parcoords\": [{\"line\": {\"colorbar\": {\"outlinewidth\": 0, \"ticks\": \"\"}}, \"type\": \"parcoords\"}], \"pie\": [{\"automargin\": true, \"type\": \"pie\"}], \"scatter\": [{\"marker\": {\"colorbar\": {\"outlinewidth\": 0, \"ticks\": \"\"}}, \"type\": \"scatter\"}], \"scatter3d\": [{\"line\": {\"colorbar\": {\"outlinewidth\": 0, \"ticks\": \"\"}}, \"marker\": {\"colorbar\": {\"outlinewidth\": 0, \"ticks\": \"\"}}, \"type\": \"scatter3d\"}], \"scattercarpet\": [{\"marker\": {\"colorbar\": {\"outlinewidth\": 0, \"ticks\": \"\"}}, \"type\": \"scattercarpet\"}], \"scattergeo\": [{\"marker\": {\"colorbar\": {\"outlinewidth\": 0, \"ticks\": \"\"}}, \"type\": \"scattergeo\"}], \"scattergl\": [{\"marker\": {\"colorbar\": {\"outlinewidth\": 0, \"ticks\": \"\"}}, \"type\": \"scattergl\"}], \"scattermapbox\": [{\"marker\": {\"colorbar\": {\"outlinewidth\": 0, \"ticks\": \"\"}}, \"type\": \"scattermapbox\"}], \"scatterpolar\": [{\"marker\": {\"colorbar\": {\"outlinewidth\": 0, \"ticks\": \"\"}}, \"type\": \"scatterpolar\"}], \"scatterpolargl\": [{\"marker\": {\"colorbar\": {\"outlinewidth\": 0, \"ticks\": \"\"}}, \"type\": \"scatterpolargl\"}], \"scatterternary\": [{\"marker\": {\"colorbar\": {\"outlinewidth\": 0, \"ticks\": \"\"}}, \"type\": \"scatterternary\"}], \"surface\": [{\"colorbar\": {\"outlinewidth\": 0, \"ticks\": \"\"}, \"colorscale\": [[0.0, \"#0d0887\"], [0.1111111111111111, \"#46039f\"], [0.2222222222222222, \"#7201a8\"], [0.3333333333333333, \"#9c179e\"], [0.4444444444444444, \"#bd3786\"], [0.5555555555555556, \"#d8576b\"], [0.6666666666666666, \"#ed7953\"], [0.7777777777777778, \"#fb9f3a\"], [0.8888888888888888, \"#fdca26\"], [1.0, \"#f0f921\"]], \"type\": \"surface\"}], \"table\": [{\"cells\": {\"fill\": {\"color\": \"#EBF0F8\"}, \"line\": {\"color\": \"white\"}}, \"header\": {\"fill\": {\"color\": \"#C8D4E3\"}, \"line\": {\"color\": \"white\"}}, \"type\": \"table\"}]}, \"layout\": {\"annotationdefaults\": {\"arrowcolor\": \"#2a3f5f\", \"arrowhead\": 0, \"arrowwidth\": 1}, \"coloraxis\": {\"colorbar\": {\"outlinewidth\": 0, \"ticks\": \"\"}}, \"colorscale\": {\"diverging\": [[0, \"#8e0152\"], [0.1, \"#c51b7d\"], [0.2, \"#de77ae\"], [0.3, \"#f1b6da\"], [0.4, \"#fde0ef\"], [0.5, \"#f7f7f7\"], [0.6, \"#e6f5d0\"], [0.7, \"#b8e186\"], [0.8, \"#7fbc41\"], [0.9, \"#4d9221\"], [1, \"#276419\"]], \"sequential\": [[0.0, \"#0d0887\"], [0.1111111111111111, \"#46039f\"], [0.2222222222222222, \"#7201a8\"], [0.3333333333333333, \"#9c179e\"], [0.4444444444444444, \"#bd3786\"], [0.5555555555555556, \"#d8576b\"], [0.6666666666666666, \"#ed7953\"], [0.7777777777777778, \"#fb9f3a\"], [0.8888888888888888, \"#fdca26\"], [1.0, \"#f0f921\"]], \"sequentialminus\": [[0.0, \"#0d0887\"], [0.1111111111111111, \"#46039f\"], [0.2222222222222222, \"#7201a8\"], [0.3333333333333333, \"#9c179e\"], [0.4444444444444444, \"#bd3786\"], [0.5555555555555556, \"#d8576b\"], [0.6666666666666666, \"#ed7953\"], [0.7777777777777778, \"#fb9f3a\"], [0.8888888888888888, \"#fdca26\"], [1.0, \"#f0f921\"]]}, \"colorway\": [\"#636efa\", \"#EF553B\", \"#00cc96\", \"#ab63fa\", \"#FFA15A\", \"#19d3f3\", \"#FF6692\", \"#B6E880\", \"#FF97FF\", \"#FECB52\"], \"font\": {\"color\": \"#2a3f5f\"}, \"geo\": {\"bgcolor\": \"white\", \"lakecolor\": \"white\", \"landcolor\": \"#E5ECF6\", \"showlakes\": true, \"showland\": true, \"subunitcolor\": \"white\"}, \"hoverlabel\": {\"align\": \"left\"}, \"hovermode\": \"closest\", \"mapbox\": {\"style\": \"light\"}, \"paper_bgcolor\": \"white\", \"plot_bgcolor\": \"#E5ECF6\", \"polar\": {\"angularaxis\": {\"gridcolor\": \"white\", \"linecolor\": \"white\", \"ticks\": \"\"}, \"bgcolor\": \"#E5ECF6\", \"radialaxis\": {\"gridcolor\": \"white\", \"linecolor\": \"white\", \"ticks\": \"\"}}, \"scene\": {\"xaxis\": {\"backgroundcolor\": \"#E5ECF6\", \"gridcolor\": \"white\", \"gridwidth\": 2, \"linecolor\": \"white\", \"showbackground\": true, \"ticks\": \"\", \"zerolinecolor\": \"white\"}, \"yaxis\": {\"backgroundcolor\": \"#E5ECF6\", \"gridcolor\": \"white\", \"gridwidth\": 2, \"linecolor\": \"white\", \"showbackground\": true, \"ticks\": \"\", \"zerolinecolor\": \"white\"}, \"zaxis\": {\"backgroundcolor\": \"#E5ECF6\", \"gridcolor\": \"white\", \"gridwidth\": 2, \"linecolor\": \"white\", \"showbackground\": true, \"ticks\": \"\", \"zerolinecolor\": \"white\"}}, \"shapedefaults\": {\"line\": {\"color\": \"#2a3f5f\"}}, \"ternary\": {\"aaxis\": {\"gridcolor\": \"white\", \"linecolor\": \"white\", \"ticks\": \"\"}, \"baxis\": {\"gridcolor\": \"white\", \"linecolor\": \"white\", \"ticks\": \"\"}, \"bgcolor\": \"#E5ECF6\", \"caxis\": {\"gridcolor\": \"white\", \"linecolor\": \"white\", \"ticks\": \"\"}}, \"title\": {\"x\": 0.05}, \"xaxis\": {\"automargin\": true, \"gridcolor\": \"white\", \"linecolor\": \"white\", \"ticks\": \"\", \"title\": {\"standoff\": 15}, \"zerolinecolor\": \"white\", \"zerolinewidth\": 2}, \"yaxis\": {\"automargin\": true, \"gridcolor\": \"white\", \"linecolor\": \"white\", \"ticks\": \"\", \"title\": {\"standoff\": 15}, \"zerolinecolor\": \"white\", \"zerolinewidth\": 2}}}, \"title\": {\"text\": \"Cases per 1M people\"}},\n",
       "                        {\"responsive\": true}\n",
       "                    ).then(function(){\n",
       "                            \n",
       "var gd = document.getElementById('2375462d-e966-454d-8604-ab42d898f108');\n",
       "var x = new MutationObserver(function (mutations, observer) {{\n",
       "        var display = window.getComputedStyle(gd).display;\n",
       "        if (!display || display === 'none') {{\n",
       "            console.log([gd, 'removed!']);\n",
       "            Plotly.purge(gd);\n",
       "            observer.disconnect();\n",
       "        }}\n",
       "}});\n",
       "\n",
       "// Listen for the removal of the full notebook cells\n",
       "var notebookContainer = gd.closest('#notebook-container');\n",
       "if (notebookContainer) {{\n",
       "    x.observe(notebookContainer, {childList: true});\n",
       "}}\n",
       "\n",
       "// Listen for the clearing of the current output cell\n",
       "var outputEl = gd.closest('.output');\n",
       "if (outputEl) {{\n",
       "    x.observe(outputEl, {childList: true});\n",
       "}}\n",
       "\n",
       "                        })\n",
       "                };\n",
       "                });\n",
       "            </script>\n",
       "        </div>"
      ]
     },
     "metadata": {},
     "output_type": "display_data"
    }
   ],
   "source": [
    "fig1 = px.choropleth(dfW, locations=\"Code\",\n",
    "                    color='Cases per 1M people', # lifeExp is a column of gapminder\n",
    "                    hover_name='Location',\n",
    "                    hover_data=['Confirmed','Recovered','Deaths'],# column to add to hover information\n",
    "                    color_continuous_scale=px.colors.sequential.Purp,\n",
    "                    \n",
    "                    labels={'':'Confirmed Cases'})\n",
    "\n",
    "\n",
    "fig1.update_layout(\n",
    "    title=\"Cases per 1M people\",\n",
    "    font=dict(\n",
    "        family=\"Courier New, monospace\",\n",
    "        size=18,\n",
    "        color=\"#7f7f7f\"\n",
    "    )\n",
    ")\n",
    "fig1.show()\n",
    "\n"
   ]
  },
  {
   "cell_type": "code",
   "execution_count": null,
   "metadata": {},
   "outputs": [],
   "source": []
  },
  {
   "cell_type": "code",
   "execution_count": null,
   "metadata": {},
   "outputs": [],
   "source": []
  }
 ],
 "metadata": {
  "kernelspec": {
   "display_name": "Python 3",
   "language": "python",
   "name": "python3"
  },
  "language_info": {
   "codemirror_mode": {
    "name": "ipython",
    "version": 3
   },
   "file_extension": ".py",
   "mimetype": "text/x-python",
   "name": "python",
   "nbconvert_exporter": "python",
   "pygments_lexer": "ipython3",
   "version": "3.6.6"
  }
 },
 "nbformat": 4,
 "nbformat_minor": 4
}
